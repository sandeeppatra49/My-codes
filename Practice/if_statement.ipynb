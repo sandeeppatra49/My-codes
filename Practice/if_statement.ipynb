{
  "nbformat": 4,
  "nbformat_minor": 0,
  "metadata": {
    "colab": {
      "name": "if statement.ipynb",
      "provenance": [],
      "authorship_tag": "ABX9TyMgjmoSd3Q1UbJIuGsChL5y",
      "include_colab_link": true
    },
    "kernelspec": {
      "name": "python3",
      "display_name": "Python 3"
    },
    "language_info": {
      "name": "python"
    }
  },
  "cells": [
    {
      "cell_type": "markdown",
      "metadata": {
        "id": "view-in-github",
        "colab_type": "text"
      },
      "source": [
        "<a href=\"https://colab.research.google.com/github/sandeeppatra49/My-codes/blob/main/Practice/if_statement.ipynb\" target=\"_parent\"><img src=\"https://colab.research.google.com/assets/colab-badge.svg\" alt=\"Open In Colab\"/></a>"
      ]
    },
    {
      "cell_type": "markdown",
      "source": [
        "# Read the name from keyboard and if the name is same as sandeep then print \" Hello sandeep Good morning\" if the name is not sandeep then only print \"How are you!!!\""
      ],
      "metadata": {
        "id": "kSl85BrLFR5c"
      }
    },
    {
      "cell_type": "code",
      "execution_count": 7,
      "metadata": {
        "colab": {
          "base_uri": "https://localhost:8080/"
        },
        "id": "10xvyCLhFCyS",
        "outputId": "8e0eee93-e6b6-43b9-ae5f-49100f59d1c8"
      },
      "outputs": [
        {
          "name": "stdout",
          "output_type": "stream",
          "text": [
            "Enter a name:sandeep\n"
          ]
        }
      ],
      "source": [
        "name=input('Enter a name:')"
      ]
    },
    {
      "cell_type": "code",
      "source": [
        "if name==\"sandeep\":\n",
        "  print('Hello sandeep, Good morning!!!')"
      ],
      "metadata": {
        "colab": {
          "base_uri": "https://localhost:8080/"
        },
        "id": "V5s3-fH4GKF-",
        "outputId": "52a9defd-112e-468c-9086-9c7119cc257b"
      },
      "execution_count": 8,
      "outputs": [
        {
          "output_type": "stream",
          "name": "stdout",
          "text": [
            "Hello sandeep, Good morning!!!\n"
          ]
        }
      ]
    },
    {
      "cell_type": "code",
      "source": [
        "print('How are you')"
      ],
      "metadata": {
        "colab": {
          "base_uri": "https://localhost:8080/"
        },
        "id": "wwIaPoVoGiZd",
        "outputId": "25bf3ab4-31ed-45d4-d969-8d53b5cf6859"
      },
      "execution_count": 9,
      "outputs": [
        {
          "output_type": "stream",
          "name": "stdout",
          "text": [
            "How are you\n"
          ]
        }
      ]
    },
    {
      "cell_type": "code",
      "source": [
        ""
      ],
      "metadata": {
        "id": "sIdHVk_NHCY2"
      },
      "execution_count": null,
      "outputs": []
    }
  ]
}