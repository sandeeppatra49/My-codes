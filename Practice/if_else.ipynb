{
  "nbformat": 4,
  "nbformat_minor": 0,
  "metadata": {
    "colab": {
      "name": "if else.ipynb",
      "provenance": [],
      "collapsed_sections": [],
      "authorship_tag": "ABX9TyMsjf7xblhakiDsBrDRwEFH",
      "include_colab_link": true
    },
    "kernelspec": {
      "name": "python3",
      "display_name": "Python 3"
    },
    "language_info": {
      "name": "python"
    }
  },
  "cells": [
    {
      "cell_type": "markdown",
      "metadata": {
        "id": "view-in-github",
        "colab_type": "text"
      },
      "source": [
        "<a href=\"https://colab.research.google.com/github/sandeeppatra49/My-codes/blob/main/Practice/if_else.ipynb\" target=\"_parent\"><img src=\"https://colab.research.google.com/assets/colab-badge.svg\" alt=\"Open In Colab\"/></a>"
      ]
    },
    {
      "cell_type": "markdown",
      "source": [
        "# Read a name from keyboard and if the name is sandeep then print \"Hello sandeep, Good Morning\" and if the name is not durga then print \"Hello Guest Good Morning\""
      ],
      "metadata": {
        "id": "eOUMXvkCOji1"
      }
    },
    {
      "cell_type": "code",
      "execution_count": 1,
      "metadata": {
        "colab": {
          "base_uri": "https://localhost:8080/"
        },
        "id": "345-wqSXOcyo",
        "outputId": "5a542221-19d6-4168-8697-cf3f93dd6f8f"
      },
      "outputs": [
        {
          "name": "stdout",
          "output_type": "stream",
          "text": [
            "enter a name:Sndeep\n"
          ]
        }
      ],
      "source": [
        "name=input('enter a name:')"
      ]
    },
    {
      "cell_type": "code",
      "source": [
        "if name=='sandeep':\n",
        "    print('Hello sandeep, Good Evening!!!')\n",
        "else:\n",
        "    print('Hello guest Good Evening!!!')"
      ],
      "metadata": {
        "colab": {
          "base_uri": "https://localhost:8080/"
        },
        "id": "ldg7hf4MPXKA",
        "outputId": "0d3d0555-4c40-4d00-9a45-618b1e8688b3"
      },
      "execution_count": 2,
      "outputs": [
        {
          "output_type": "stream",
          "name": "stdout",
          "text": [
            "Hello guest Good Evening!!!\n"
          ]
        }
      ]
    },
    {
      "cell_type": "code",
      "source": [
        ""
      ],
      "metadata": {
        "id": "iiIHjTq9PqA3"
      },
      "execution_count": null,
      "outputs": []
    }
  ]
}