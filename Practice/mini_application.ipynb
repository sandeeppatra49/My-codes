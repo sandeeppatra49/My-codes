{
  "nbformat": 4,
  "nbformat_minor": 0,
  "metadata": {
    "colab": {
      "name": "mini application.ipynb",
      "provenance": [],
      "authorship_tag": "ABX9TyPKZH8/k1GEdPgbnkbvme37",
      "include_colab_link": true
    },
    "kernelspec": {
      "name": "python3",
      "display_name": "Python 3"
    },
    "language_info": {
      "name": "python"
    }
  },
  "cells": [
    {
      "cell_type": "markdown",
      "metadata": {
        "id": "view-in-github",
        "colab_type": "text"
      },
      "source": [
        "<a href=\"https://colab.research.google.com/github/sandeeppatra49/My-codes/blob/main/Practice/mini_application.ipynb\" target=\"_parent\"><img src=\"https://colab.research.google.com/assets/colab-badge.svg\" alt=\"Open In Colab\"/></a>"
      ]
    },
    {
      "cell_type": "code",
      "execution_count": 2,
      "metadata": {
        "colab": {
          "base_uri": "https://localhost:8080/"
        },
        "id": "NVV-OykuWRIR",
        "outputId": "3cf1046b-d86b-4bd0-8cfe-2cd8e81eaef3"
      },
      "outputs": [
        {
          "output_type": "stream",
          "name": "stdout",
          "text": [
            "Movie name is: Bahubali\n",
            "Hero is: Prabhas\n",
            "Heroine name is: Anushka\n"
          ]
        }
      ],
      "source": [
        "class Movie:\n",
        "  def __init__(self,name,hero,heroine):\n",
        "    self.name=name\n",
        "    self.hero=hero\n",
        "    self.heroine=heroine\n",
        "  def talk(self):\n",
        "    print('Movie name is:',self.name)\n",
        "    print('Hero is:',self.hero)\n",
        "    print('Heroine name is:',self.heroine)\n",
        "x=Movie('Bahubali','Prabhas','Anushka')\n",
        "x.talk()"
      ]
    },
    {
      "cell_type": "code",
      "source": [
        "class Movie:\n",
        "  def __init__(self,title,hero,heroine):\n",
        "    self.title=title\n",
        "    self.hero=hero\n",
        "    self.heroine=heroine\n",
        "\n",
        "  def info(self):\n",
        "    print('Movie name:',self.title)\n",
        "    print('Hero name:',self.hero)\n",
        "    print('Heroine name:',self.heroine)\n",
        "  \n",
        "list_of_movies=[]\n",
        "while True:\n",
        "  title= input('Enter Movie name:')\n",
        "  hero=input('Enter Hero name:')\n",
        "  heroine=input('Enter Heroine name:')\n",
        "  m=Movie(title,hero,heroine)\n",
        "  list_of_movies.append(m)\n",
        "  print('Movies added sucessfully....')\n",
        "  option=input('Do you  want to add another movie [yes|No]?')\n",
        "  if option.lower()=='no':\n",
        "    break\n",
        "print('All movie information...')\n",
        "for i in list_of_movies:\n",
        "  i.info()\n",
        "  print()"
      ],
      "metadata": {
        "colab": {
          "base_uri": "https://localhost:8080/"
        },
        "id": "_lG31q0QX56A",
        "outputId": "1e3fd201-5c83-4f78-8cff-40bd0030dce0"
      },
      "execution_count": 10,
      "outputs": [
        {
          "output_type": "stream",
          "name": "stdout",
          "text": [
            "Enter Movie name:Bahubali\n",
            "Enter Hero name:prabhas\n",
            "Enter Heroine name:anushaka\n",
            "Movies added sucessfully....\n",
            "Do you  want to add movie [yes|No]?yes\n",
            "Enter Movie name:krish\n",
            "Enter Hero name:Hritik\n",
            "Enter Heroine name:priyanka\n",
            "Movies added sucessfully....\n",
            "Do you  want to add movie [yes|No]?no\n",
            "All movie information...\n",
            "Movie name: Bahubali\n",
            "Hero name: prabhas\n",
            "Heroine name: anushaka\n",
            "\n",
            "Movie name: krish\n",
            "Hero name: Hritik\n",
            "Heroine name: priyanka\n",
            "\n"
          ]
        }
      ]
    },
    {
      "cell_type": "code",
      "source": [
        "class Test:\n",
        "  def Test(self):\n",
        "    print('Method')\n",
        "t=Test()  #constructor will be executed\n",
        "t.Test()  #Test() will be executed"
      ],
      "metadata": {
        "colab": {
          "base_uri": "https://localhost:8080/"
        },
        "id": "45qmrja7pZaQ",
        "outputId": "85790b10-bf32-4313-94ff-ac4ede7f5382"
      },
      "execution_count": 18,
      "outputs": [
        {
          "output_type": "stream",
          "name": "stdout",
          "text": [
            "Method\n"
          ]
        }
      ]
    },
    {
      "cell_type": "code",
      "source": [
        ""
      ],
      "metadata": {
        "id": "1zSpQXksxjaI"
      },
      "execution_count": null,
      "outputs": []
    }
  ]
}