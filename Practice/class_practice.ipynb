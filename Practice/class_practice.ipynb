{
  "nbformat": 4,
  "nbformat_minor": 0,
  "metadata": {
    "colab": {
      "name": "class_practice.ipynb",
      "provenance": [],
      "authorship_tag": "ABX9TyPNHMEq3fZk1veGHpuVnsNP",
      "include_colab_link": true
    },
    "kernelspec": {
      "name": "python3",
      "display_name": "Python 3"
    },
    "language_info": {
      "name": "python"
    }
  },
  "cells": [
    {
      "cell_type": "markdown",
      "metadata": {
        "id": "view-in-github",
        "colab_type": "text"
      },
      "source": [
        "<a href=\"https://colab.research.google.com/github/sandeeppatra49/My-codes/blob/main/Practice/class_practice.ipynb\" target=\"_parent\"><img src=\"https://colab.research.google.com/assets/colab-badge.svg\" alt=\"Open In Colab\"/></a>"
      ]
    },
    {
      "cell_type": "code",
      "execution_count": null,
      "metadata": {
        "id": "YGvKQh4U-zYU"
      },
      "outputs": [],
      "source": [
        "class group:\n",
        "  ''' This group is developed by sandeep for demo'''  #description of class"
      ]
    },
    {
      "cell_type": "code",
      "source": [
        "print(group.__doc__)"
      ],
      "metadata": {
        "colab": {
          "base_uri": "https://localhost:8080/"
        },
        "id": "Yz2EYajg_UY9",
        "outputId": "903ebb05-ab12-4fdb-ee6b-eb75c6837abf"
      },
      "execution_count": null,
      "outputs": [
        {
          "output_type": "stream",
          "name": "stdout",
          "text": [
            " This group is developed by sandeep for demo\n"
          ]
        }
      ]
    },
    {
      "cell_type": "code",
      "source": [
        "help(group)"
      ],
      "metadata": {
        "colab": {
          "base_uri": "https://localhost:8080/"
        },
        "id": "qSmqMpr5_gMR",
        "outputId": "867af48a-4933-4db5-e594-0f52df29000c"
      },
      "execution_count": null,
      "outputs": [
        {
          "output_type": "stream",
          "name": "stdout",
          "text": [
            "Help on class group in module __main__:\n",
            "\n",
            "class group(builtins.object)\n",
            " |  This group is developed by sandeep for demo\n",
            " |  \n",
            " |  Data descriptors defined here:\n",
            " |  \n",
            " |  __dict__\n",
            " |      dictionary for instance variables (if defined)\n",
            " |  \n",
            " |  __weakref__\n",
            " |      list of weak references to the object (if defined)\n",
            "\n"
          ]
        }
      ]
    },
    {
      "cell_type": "code",
      "source": [
        "\n",
        "class Student:\n",
        "  '''This class is developed by sandeep for demo'''\n",
        "  def __init__(self):     #defining the methods\n",
        "    self.name='Sandeep'\n",
        "    self.roll_no= 164\n",
        "    self.marks= 89\n",
        "  def talk(self):\n",
        "    print('Hello i am:', self.name)\n",
        "    print('My roll no is:', self.roll_no)\n",
        "    print('My marks are:', self.marks)"
      ],
      "metadata": {
        "id": "UOXfksJz_tWm"
      },
      "execution_count": 9,
      "outputs": []
    },
    {
      "cell_type": "code",
      "source": [
        "s=Student()          #creating an object\n",
        "print(s.name)\n",
        "print(s.roll_no)\n",
        "print(s.marks)"
      ],
      "metadata": {
        "colab": {
          "base_uri": "https://localhost:8080/"
        },
        "id": "GaHHEZ9ULldU",
        "outputId": "61d7e2ce-6394-4cc6-96de-db75c0887068"
      },
      "execution_count": 11,
      "outputs": [
        {
          "output_type": "stream",
          "name": "stdout",
          "text": [
            "Sandeep\n",
            "164\n",
            "89\n"
          ]
        }
      ]
    },
    {
      "cell_type": "code",
      "source": [
        "s.talk()     #calling talk methods"
      ],
      "metadata": {
        "colab": {
          "base_uri": "https://localhost:8080/"
        },
        "id": "RPOvGcMgReOg",
        "outputId": "6805a7b3-757e-44a7-aa18-9307d8aaf647"
      },
      "execution_count": 13,
      "outputs": [
        {
          "output_type": "stream",
          "name": "stdout",
          "text": [
            "Hello i am: Sandeep\n",
            "My roll no is: 164\n",
            "My marks are: 89\n"
          ]
        }
      ]
    },
    {
      "cell_type": "code",
      "source": [
        "class Group:\n",
        "  def __init__(self,name,rollno,marks):\n",
        "    self.name=name\n",
        "    self.rollno=rollno\n",
        "    self.marks=marks\n",
        "\n",
        "  def talk(self):\n",
        "    print('Hello i am:',self.name)\n",
        "    print('My roll no is:',self.rollno)\n",
        "    print('My marks are:',self.marks)"
      ],
      "metadata": {
        "id": "JX_zKhNlSCSR"
      },
      "execution_count": 15,
      "outputs": []
    },
    {
      "cell_type": "code",
      "source": [
        "s1=Group('Sunny',26,88)\n",
        "s1.talk()"
      ],
      "metadata": {
        "colab": {
          "base_uri": "https://localhost:8080/"
        },
        "id": "etCg1LVfWL0J",
        "outputId": "a416159a-4654-43fa-b191-d709d9f18510"
      },
      "execution_count": 25,
      "outputs": [
        {
          "output_type": "stream",
          "name": "stdout",
          "text": [
            "Hello i am: Sunny\n",
            "My roll no is: 26\n",
            "My marks are: 88\n"
          ]
        }
      ]
    },
    {
      "cell_type": "code",
      "source": [
        "s2=Group('Bunny',33,78)\n",
        "s2.talk()"
      ],
      "metadata": {
        "colab": {
          "base_uri": "https://localhost:8080/"
        },
        "id": "TgdANrAfc2W_",
        "outputId": "9c91a3a3-7dba-42a9-e944-37b56e4493a1"
      },
      "execution_count": 26,
      "outputs": [
        {
          "output_type": "stream",
          "name": "stdout",
          "text": [
            "Hello i am: Bunny\n",
            "My roll no is: 33\n",
            "My marks are: 78\n"
          ]
        }
      ]
    },
    {
      "cell_type": "code",
      "source": [
        "class Test:\n",
        "  def __init__(self):\n",
        "    print('Address of object pointed by self:', id(self))\n"
      ],
      "metadata": {
        "id": "7XYinIjCeB30"
      },
      "execution_count": 55,
      "outputs": []
    },
    {
      "cell_type": "code",
      "source": [
        "t=Test()\n",
        "print('Address of object pointed by t:', id(t))"
      ],
      "metadata": {
        "colab": {
          "base_uri": "https://localhost:8080/"
        },
        "id": "bZRPaflIkGEv",
        "outputId": "bc9e493a-6bfc-4002-da3a-f5ba17f13aca"
      },
      "execution_count": 56,
      "outputs": [
        {
          "output_type": "stream",
          "name": "stdout",
          "text": [
            "Address of object pointed by self: 140535047304720\n",
            "Address of object pointed by t: 140535047304720\n"
          ]
        }
      ]
    },
    {
      "cell_type": "code",
      "source": [
        "class Gang:\n",
        "  def __init__(self,name,rollno,rank):\n",
        "    print('constructor initializing and assigning values.....')\n",
        "    self.name=name\n",
        "    self.rollno=rollno\n",
        "    self.rank=rank"
      ],
      "metadata": {
        "id": "RZ7tAzuTkGFl"
      },
      "execution_count": 57,
      "outputs": []
    },
    {
      "cell_type": "code",
      "source": [
        "s1=Gang('Bapi',10,1)\n",
        "print(s1.name,s1.rollno,s1.rank)"
      ],
      "metadata": {
        "colab": {
          "base_uri": "https://localhost:8080/"
        },
        "id": "A4xmeHrw9883",
        "outputId": "201e800e-4f17-45e6-ffab-f56fa8e0b390"
      },
      "execution_count": 60,
      "outputs": [
        {
          "output_type": "stream",
          "name": "stdout",
          "text": [
            "constructor initializing and assigning values.....\n",
            "Bapi 10 1\n"
          ]
        }
      ]
    },
    {
      "cell_type": "code",
      "source": [
        "s2=Gang('Sonu',40,31)\n",
        "print(s2.name,s2.rollno,s2.rank)"
      ],
      "metadata": {
        "colab": {
          "base_uri": "https://localhost:8080/"
        },
        "id": "QvZDaVW_-B13",
        "outputId": "683e29f9-ec28-4d99-8f3e-6a3300c575c8"
      },
      "execution_count": 63,
      "outputs": [
        {
          "output_type": "stream",
          "name": "stdout",
          "text": [
            "constructor initializing and assigning values.....\n",
            "Sonu 40 31\n"
          ]
        }
      ]
    },
    {
      "cell_type": "code",
      "source": [
        ""
      ],
      "metadata": {
        "id": "SyL0pJqW-kMu"
      },
      "execution_count": null,
      "outputs": []
    }
  ]
}