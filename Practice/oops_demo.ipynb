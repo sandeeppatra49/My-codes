{
  "nbformat": 4,
  "nbformat_minor": 0,
  "metadata": {
    "colab": {
      "name": "oops demo.ipynb",
      "provenance": [],
      "authorship_tag": "ABX9TyOKvkjacKK1ruvDPVB/4kt7",
      "include_colab_link": true
    },
    "kernelspec": {
      "name": "python3",
      "display_name": "Python 3"
    },
    "language_info": {
      "name": "python"
    }
  },
  "cells": [
    {
      "cell_type": "markdown",
      "metadata": {
        "id": "view-in-github",
        "colab_type": "text"
      },
      "source": [
        "<a href=\"https://colab.research.google.com/github/sandeeppatra49/My-codes/blob/main/Practice/oops_demo.ipynb\" target=\"_parent\"><img src=\"https://colab.research.google.com/assets/colab-badge.svg\" alt=\"Open In Colab\"/></a>"
      ]
    },
    {
      "cell_type": "code",
      "execution_count": null,
      "metadata": {
        "colab": {
          "base_uri": "https://localhost:8080/"
        },
        "id": "x6oKGDkjyObS",
        "outputId": "c77d77ae-832e-4ba3-b48c-41385a2b84e0"
      },
      "outputs": [
        {
          "output_type": "stream",
          "name": "stdout",
          "text": [
            "Bapi\n"
          ]
        }
      ],
      "source": [
        "class Topper:             #parent class\n",
        "  def rank1_2020(self):\n",
        "    print('Bapi')\n",
        "\n",
        "class Xth(Topper):        #child class having all properties of parents class\n",
        "  pass\n",
        "\n",
        "name=Xth()                #create object\n",
        "name.rank1_2020()         #call method"
      ]
    },
    {
      "cell_type": "code",
      "source": [
        "class Marry():\n",
        "  def love(self):\n",
        "    print('Sneha')\n",
        "\n",
        "class Wife(Marry):\n",
        "  def love(self):\n",
        "    print('Siri')\n",
        "\n",
        "life=Wife()\n",
        "life.love()"
      ],
      "metadata": {
        "colab": {
          "base_uri": "https://localhost:8080/"
        },
        "id": "MpPB_Fhxyz9v",
        "outputId": "0fcd6239-e873-4a12-a7e4-75cab67d47a1"
      },
      "execution_count": null,
      "outputs": [
        {
          "output_type": "stream",
          "name": "stdout",
          "text": [
            "Siri\n"
          ]
        }
      ]
    },
    {
      "cell_type": "code",
      "source": [
        "class Parent:\n",
        "  def property(self):\n",
        "    print('gold+land+cash+power')\n",
        "  \n",
        "  def marry(self):\n",
        "    print('siri')\n",
        "\n",
        "class Child(Parent):\n",
        "  pass\n",
        "\n",
        "c=Child()\n",
        "c.property()\n",
        "c.marry()\n"
      ],
      "metadata": {
        "colab": {
          "base_uri": "https://localhost:8080/"
        },
        "id": "wlOBe8o-1eEu",
        "outputId": "5d602a15-49ae-4cb7-9843-ee70d5a4b693"
      },
      "execution_count": null,
      "outputs": [
        {
          "output_type": "stream",
          "name": "stdout",
          "text": [
            "gold+land+cash+power\n",
            "siri\n"
          ]
        }
      ]
    },
    {
      "cell_type": "code",
      "source": [
        "class Parent:\n",
        "  def property(self):\n",
        "    print('gold+land+cash+power')\n",
        "  \n",
        "  def marry(self):\n",
        "    print('siri')\n",
        "\n",
        "class Child(Parent):\n",
        "  def marry(self):\n",
        "    print('Sirisha')\n",
        "\n",
        "c=Child()\n",
        "c.property()\n",
        "c.marry()"
      ],
      "metadata": {
        "colab": {
          "base_uri": "https://localhost:8080/"
        },
        "id": "CMbmHIXL7ak6",
        "outputId": "26122347-e83e-49df-a587-b8ec6a887a2a"
      },
      "execution_count": null,
      "outputs": [
        {
          "output_type": "stream",
          "name": "stdout",
          "text": [
            "gold+land+cash+power\n",
            "Sirisha\n"
          ]
        }
      ]
    },
    {
      "cell_type": "code",
      "source": [
        "class Parent:\n",
        "  def property(self):\n",
        "    print('gold+land+cash+power')\n",
        "  \n",
        "  def marry(self):\n",
        "    print('siri')\n",
        "\n",
        "class Child(Parent):\n",
        "  def marry(self):  #redefining marry method as not satisfied with parent class method\n",
        "    super().marry() #super maethod is for both in parent and child class same method\n",
        "    print('Sirisha')\n",
        "\n",
        "c=Child()\n",
        "c.property()\n",
        "c.marry()"
      ],
      "metadata": {
        "colab": {
          "base_uri": "https://localhost:8080/"
        },
        "id": "HmpXbbR69fwv",
        "outputId": "86f027ac-9845-4c70-cf19-319bba3fce72"
      },
      "execution_count": null,
      "outputs": [
        {
          "output_type": "stream",
          "name": "stdout",
          "text": [
            "gold+land+cash+power\n",
            "siri\n",
            "Sirisha\n"
          ]
        }
      ]
    },
    {
      "cell_type": "code",
      "source": [
        "class Parents:\n",
        "  def __init__(self):\n",
        "    print('Parent Constructor')\n",
        "\n",
        "class Child(Parents):\n",
        "  pass\n",
        "\n",
        "c=Child()"
      ],
      "metadata": {
        "colab": {
          "base_uri": "https://localhost:8080/"
        },
        "id": "_SjfpiPFBp9K",
        "outputId": "e5a0621a-b1ea-4f30-bc5f-c6320151e80e"
      },
      "execution_count": null,
      "outputs": [
        {
          "output_type": "stream",
          "name": "stdout",
          "text": [
            "Parent Constructor\n"
          ]
        }
      ]
    },
    {
      "cell_type": "code",
      "source": [
        "class Parents:\n",
        "  def __init__(self):\n",
        "    print('Parent Constructor')\n",
        "\n",
        "class Child(Parents):\n",
        "  def __init__(self):\n",
        "    print('Child Constructor')\n",
        "\n",
        "c=Child()"
      ],
      "metadata": {
        "colab": {
          "base_uri": "https://localhost:8080/"
        },
        "id": "ciBG7W8V_Byl",
        "outputId": "47158c02-ddd3-4de7-bf66-163e9ab74baa"
      },
      "execution_count": null,
      "outputs": [
        {
          "output_type": "stream",
          "name": "stdout",
          "text": [
            "Child Constructor\n"
          ]
        }
      ]
    },
    {
      "cell_type": "code",
      "source": [
        "class Parents:\n",
        "  def __init__(self):\n",
        "    print('Parent Constructor')\n",
        "\n",
        "class Child(Parents):\n",
        "  def __init__(self):\n",
        "    super().__init__()\n",
        "    print('Child Constructor')\n",
        "\n",
        "c=Child()"
      ],
      "metadata": {
        "colab": {
          "base_uri": "https://localhost:8080/"
        },
        "id": "6EGuiRI4B20h",
        "outputId": "55983ba6-d861-4145-c4e6-859260e993a9"
      },
      "execution_count": null,
      "outputs": [
        {
          "output_type": "stream",
          "name": "stdout",
          "text": [
            "Parent Constructor\n",
            "Child Constructor\n"
          ]
        }
      ]
    },
    {
      "cell_type": "code",
      "source": [
        ""
      ],
      "metadata": {
        "id": "oseObh1ECC8R"
      },
      "execution_count": null,
      "outputs": []
    }
  ]
}