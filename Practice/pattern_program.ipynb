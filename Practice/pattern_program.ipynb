{
  "nbformat": 4,
  "nbformat_minor": 0,
  "metadata": {
    "colab": {
      "name": "pattern program.ipynb",
      "provenance": [],
      "collapsed_sections": [],
      "authorship_tag": "ABX9TyPXglLQXSIZ/VgztMLEpNIn",
      "include_colab_link": true
    },
    "kernelspec": {
      "name": "python3",
      "display_name": "Python 3"
    },
    "language_info": {
      "name": "python"
    }
  },
  "cells": [
    {
      "cell_type": "markdown",
      "metadata": {
        "id": "view-in-github",
        "colab_type": "text"
      },
      "source": [
        "<a href=\"https://colab.research.google.com/github/sandeeppatra49/My-codes/blob/main/Practice/pattern_program.ipynb\" target=\"_parent\"><img src=\"https://colab.research.google.com/assets/colab-badge.svg\" alt=\"Open In Colab\"/></a>"
      ]
    },
    {
      "cell_type": "markdown",
      "source": [
        "# Squre pattern with provided fixed digitin each row:"
      ],
      "metadata": {
        "id": "TQJq7UTo5t-K"
      }
    },
    {
      "cell_type": "code",
      "source": [
        "n=int(input('Enter n value:')) \n",
        "for i in range(n):\n",
        "  print((str(i+1)+ ' ')*n)"
      ],
      "metadata": {
        "colab": {
          "base_uri": "https://localhost:8080/"
        },
        "id": "HbAf9YcI1BYy",
        "outputId": "aafa09ca-05c5-4edd-8fa8-c6b19b534452"
      },
      "execution_count": 31,
      "outputs": [
        {
          "output_type": "stream",
          "name": "stdout",
          "text": [
            "Enter n value:4\n",
            "1 1 1 1 \n",
            "2 2 2 2 \n",
            "3 3 3 3 \n",
            "4 4 4 4 \n"
          ]
        }
      ]
    },
    {
      "cell_type": "markdown",
      "source": [
        "# Squre pattern with provided fixed characters in each rows:\n",
        "\n",
        "---\n",
        "\n"
      ],
      "metadata": {
        "id": "5AvHOohP52Tf"
      }
    },
    {
      "cell_type": "code",
      "source": [
        "n=int(input('Enter n value:'))\n",
        "for i in range(n):\n",
        "  print((chr(65+i)+ ' ')*n)"
      ],
      "metadata": {
        "colab": {
          "base_uri": "https://localhost:8080/"
        },
        "id": "LMRFXh9IzWiX",
        "outputId": "c63703c2-12b0-4626-a5d5-541b9a136775"
      },
      "execution_count": 32,
      "outputs": [
        {
          "output_type": "stream",
          "name": "stdout",
          "text": [
            "Enter n value:4\n",
            "A A A A \n",
            "B B B B \n",
            "C C C C \n",
            "D D D D \n"
          ]
        }
      ]
    },
    {
      "cell_type": "markdown",
      "source": [
        "# To print right angle triangle"
      ],
      "metadata": {
        "id": "K2XMvTwg6NiR"
      }
    },
    {
      "cell_type": "code",
      "source": [
        "n=int(input('Enter n value:'))\n",
        "for i in range(n):\n",
        "  print('* '*(i+1))"
      ],
      "metadata": {
        "colab": {
          "base_uri": "https://localhost:8080/"
        },
        "id": "GUXdyHDg1BXy",
        "outputId": "e868670f-e95b-43cd-8c9c-1541c1a45e33"
      },
      "execution_count": 33,
      "outputs": [
        {
          "output_type": "stream",
          "name": "stdout",
          "text": [
            "Enter n value:4\n",
            "* \n",
            "* * \n",
            "* * * \n",
            "* * * * \n"
          ]
        }
      ]
    },
    {
      "cell_type": "markdown",
      "source": [
        "# To print reverse right angle triangle:"
      ],
      "metadata": {
        "id": "kIZpD-vi8yqR"
      }
    },
    {
      "cell_type": "code",
      "source": [
        "n=int(input('Enter n value:'))\n",
        "for i in range(n):\n",
        "  print('* '*(n-i))"
      ],
      "metadata": {
        "colab": {
          "base_uri": "https://localhost:8080/"
        },
        "id": "AmjVOSDt8u6X",
        "outputId": "9f6802b9-d0cc-4b2c-b763-3d13753c0052"
      },
      "execution_count": 34,
      "outputs": [
        {
          "output_type": "stream",
          "name": "stdout",
          "text": [
            "Enter n value:4\n",
            "* * * * \n",
            "* * * \n",
            "* * \n",
            "* \n"
          ]
        }
      ]
    },
    {
      "cell_type": "markdown",
      "source": [
        "# To print pyramidal pattern with symbols:"
      ],
      "metadata": {
        "id": "cgUHPNo26FqI"
      }
    },
    {
      "cell_type": "code",
      "execution_count": 35,
      "metadata": {
        "id": "f6swG8V4vTUi",
        "colab": {
          "base_uri": "https://localhost:8080/"
        },
        "outputId": "2218f13e-ad41-4b52-a9bc-781766bfb9b9"
      },
      "outputs": [
        {
          "output_type": "stream",
          "name": "stdout",
          "text": [
            "Enter n value:4\n",
            "   * \n",
            "  * * \n",
            " * * * \n",
            "* * * * \n"
          ]
        }
      ],
      "source": [
        "n= int(input('Enter n value:'))\n",
        "for i in range(n):\n",
        "  print(' '*(n-i-1)+'* '*(i+1))"
      ]
    },
    {
      "cell_type": "markdown",
      "source": [
        "# To print reverse pyramidal pattern with symbols:\n",
        "\n"
      ],
      "metadata": {
        "id": "JGcgRLd-528_"
      }
    },
    {
      "cell_type": "code",
      "source": [
        "n=int(input('Enter n value:'))\n",
        "for i in range(n):\n",
        "  print(' '*i +'* '*(n-i))\n"
      ],
      "metadata": {
        "colab": {
          "base_uri": "https://localhost:8080/"
        },
        "id": "oiGjDkxmz0OF",
        "outputId": "19f7a759-5641-4db2-a4c6-f56605ef190b"
      },
      "execution_count": 36,
      "outputs": [
        {
          "output_type": "stream",
          "name": "stdout",
          "text": [
            "Enter n value:4\n",
            "* * * * \n",
            " * * * \n",
            "  * * \n",
            "   * \n"
          ]
        }
      ]
    },
    {
      "cell_type": "markdown",
      "source": [
        "# To print diamond pattern with '*' symbol:"
      ],
      "metadata": {
        "id": "w3yDjuuH53nf"
      }
    },
    {
      "cell_type": "code",
      "source": [
        "n=int(input('Enter n value:'))\n",
        "for i in range(n):\n",
        "  print(' '*(n-i-1)+'* '*(i+1))\n",
        "\n",
        "for i in range(n-1):\n",
        "  print(' '*(i+1)+'* '*(n-i-1))\n"
      ],
      "metadata": {
        "colab": {
          "base_uri": "https://localhost:8080/"
        },
        "id": "rTFOF5vowH7w",
        "outputId": "715d5cf6-022e-4a39-9542-b133333d4cc2"
      },
      "execution_count": 37,
      "outputs": [
        {
          "output_type": "stream",
          "name": "stdout",
          "text": [
            "Enter n value:4\n",
            "   * \n",
            "  * * \n",
            " * * * \n",
            "* * * * \n",
            " * * * \n",
            "  * * \n",
            "   * \n"
          ]
        }
      ]
    },
    {
      "cell_type": "code",
      "source": [
        ""
      ],
      "metadata": {
        "id": "ZZ0nct1d90_6"
      },
      "execution_count": null,
      "outputs": []
    }
  ]
}