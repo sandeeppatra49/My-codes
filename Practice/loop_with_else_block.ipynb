{
  "nbformat": 4,
  "nbformat_minor": 0,
  "metadata": {
    "colab": {
      "name": "loop with else block.ipynb",
      "provenance": [],
      "collapsed_sections": [],
      "authorship_tag": "ABX9TyNFhqMTn6Wdwpgj5yPZ0aWw",
      "include_colab_link": true
    },
    "kernelspec": {
      "name": "python3",
      "display_name": "Python 3"
    },
    "language_info": {
      "name": "python"
    }
  },
  "cells": [
    {
      "cell_type": "markdown",
      "metadata": {
        "id": "view-in-github",
        "colab_type": "text"
      },
      "source": [
        "<a href=\"https://colab.research.google.com/github/sandeeppatra49/My-codes/blob/main/Practice/loop_with_else_block.ipynb\" target=\"_parent\"><img src=\"https://colab.research.google.com/assets/colab-badge.svg\" alt=\"Open In Colab\"/></a>"
      ]
    },
    {
      "cell_type": "markdown",
      "source": [
        "# When the else block execute inside loop?"
      ],
      "metadata": {
        "id": "yESpOr2PRCou"
      }
    },
    {
      "cell_type": "code",
      "execution_count": 4,
      "metadata": {
        "colab": {
          "base_uri": "https://localhost:8080/"
        },
        "id": "F9QUG4il5YHO",
        "outputId": "60a9d467-8376-4db6-9055-06d7955714d1"
      },
      "outputs": [
        {
          "output_type": "stream",
          "name": "stdout",
          "text": [
            "processing item: 10\n",
            "processing item: 20\n",
            "processing item: 80\n",
            "processing item: 30\n",
            "processing item: 40\n",
            "processing item: 50\n",
            "congrats!! All items processed sucessfully\n"
          ]
        }
      ],
      "source": [
        "cart=[10,20,80,30,40,50]\n",
        "for item in cart:\n",
        "  if item>500:\n",
        "    print('we cant place the order because, insurence must be required')\n",
        "    break\n",
        "  print('processing item:', item)\n",
        "else:\n",
        "  print('congrats!! All items processed sucessfully')"
      ]
    },
    {
      "cell_type": "code",
      "source": [
        "cart=[10,20,800,30,40,5000]\n",
        "for item in cart:\n",
        "  if item>500:\n",
        "    print('we cant place the order because, insurence must be required')\n",
        "    break\n",
        "  print('processing item:', item)\n",
        "else:\n",
        "  print('congrats!! All items processed sucessfully')"
      ],
      "metadata": {
        "colab": {
          "base_uri": "https://localhost:8080/"
        },
        "id": "xHlq6s5T6HEp",
        "outputId": "10f60cbb-f94e-451e-d525-fae62979f1a9"
      },
      "execution_count": 10,
      "outputs": [
        {
          "output_type": "stream",
          "name": "stdout",
          "text": [
            "processing item: 10\n",
            "processing item: 20\n",
            "we cant place the order because, insurence must be required\n"
          ]
        }
      ]
    },
    {
      "cell_type": "code",
      "source": [
        "cart=[10,20,80,30,40,50]\n",
        "for item in cart:\n",
        "  if item>500:\n",
        "    print('we cant place the order because, insurence must be required')\n",
        "    continue\n",
        "  print('processing item:', item)\n",
        "else:\n",
        "  print('congrats!! All items processed sucessfully')"
      ],
      "metadata": {
        "colab": {
          "base_uri": "https://localhost:8080/"
        },
        "id": "FTEpIEUX7xOw",
        "outputId": "e510e8b0-2c7a-4933-ddbb-22f1a947c2f5"
      },
      "execution_count": 6,
      "outputs": [
        {
          "output_type": "stream",
          "name": "stdout",
          "text": [
            "processing item: 10\n",
            "processing item: 20\n",
            "processing item: 80\n",
            "processing item: 30\n",
            "processing item: 40\n",
            "processing item: 50\n",
            "congrats!! All items processed sucessfully\n"
          ]
        }
      ]
    },
    {
      "cell_type": "code",
      "source": [
        "cart=[10,20,800,30,40,5000]\n",
        "for item in cart:\n",
        "  if item>500:\n",
        "    print('we cant place the order because, insurence must be required')\n",
        "    continue\n",
        "  print('processing item:', item)\n",
        "else:\n",
        "  print('congrats!! All items processed sucessfully')"
      ],
      "metadata": {
        "colab": {
          "base_uri": "https://localhost:8080/"
        },
        "id": "KJohaO8PKeOb",
        "outputId": "d3b24a36-3793-4987-c26b-bb4c4da1e096"
      },
      "execution_count": 8,
      "outputs": [
        {
          "output_type": "stream",
          "name": "stdout",
          "text": [
            "processing item: 10\n",
            "processing item: 20\n",
            "we cant place the order because, insurence must be required\n",
            "processing item: 30\n",
            "processing item: 40\n",
            "we cant place the order because, insurence must be required\n",
            "congrats!! All items processed sucessfully\n"
          ]
        }
      ]
    },
    {
      "cell_type": "code",
      "source": [
        ""
      ],
      "metadata": {
        "id": "Lxwst2XBKoTh"
      },
      "execution_count": null,
      "outputs": []
    }
  ]
}