{
  "nbformat": 4,
  "nbformat_minor": 0,
  "metadata": {
    "colab": {
      "name": "pass statement.ipynb",
      "provenance": [],
      "authorship_tag": "ABX9TyM8gR5Tx7PS3vzVGjo8V3fj",
      "include_colab_link": true
    },
    "kernelspec": {
      "name": "python3",
      "display_name": "Python 3"
    },
    "language_info": {
      "name": "python"
    }
  },
  "cells": [
    {
      "cell_type": "markdown",
      "metadata": {
        "id": "view-in-github",
        "colab_type": "text"
      },
      "source": [
        "<a href=\"https://colab.research.google.com/github/sandeeppatra49/My-codes/blob/main/Practice/pass_statement.ipynb\" target=\"_parent\"><img src=\"https://colab.research.google.com/assets/colab-badge.svg\" alt=\"Open In Colab\"/></a>"
      ]
    },
    {
      "cell_type": "markdown",
      "source": [
        "# i have multiple loans and at loan level i don't know the implementtion "
      ],
      "metadata": {
        "id": "03NyFp7hmQU-"
      }
    },
    {
      "cell_type": "code",
      "execution_count": 7,
      "metadata": {
        "colab": {
          "base_uri": "https://localhost:8080/"
        },
        "id": "gGwe6f0vf27F",
        "outputId": "e0d3be29-7e4b-497a-b104-6c8cd59adc5f"
      },
      "outputs": [
        {
          "output_type": "stream",
          "name": "stdout",
          "text": [
            "8\n",
            "12\n"
          ]
        }
      ],
      "source": [
        "from abc import *\n",
        "class Loan(ABC):\n",
        "  @abstractmethod\n",
        "  def getInterestRate(self):\n",
        "    pass\n",
        "class HomeLoan(Loan):\n",
        "  def getInterestRate(self):\n",
        "    return 8\n",
        "class VehicleLoan(Loan):\n",
        "  def getInterestRate(self):\n",
        "    return 12\n",
        "h = HomeLoan ()\n",
        "print(h.getInterestRate())\n",
        "v=VehicleLoan()\n",
        "print(v.getInterestRate())"
      ]
    },
    {
      "cell_type": "code",
      "source": [
        ""
      ],
      "metadata": {
        "id": "tmDumlXJinF5"
      },
      "execution_count": null,
      "outputs": []
    }
  ]
}