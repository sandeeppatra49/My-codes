{
  "nbformat": 4,
  "nbformat_minor": 0,
  "metadata": {
    "colab": {
      "name": "range of the number.ipynb",
      "provenance": [],
      "collapsed_sections": [],
      "authorship_tag": "ABX9TyNVcvBJYNwaxZpYZnkrb8Ex",
      "include_colab_link": true
    },
    "kernelspec": {
      "name": "python3",
      "display_name": "Python 3"
    },
    "language_info": {
      "name": "python"
    }
  },
  "cells": [
    {
      "cell_type": "markdown",
      "metadata": {
        "id": "view-in-github",
        "colab_type": "text"
      },
      "source": [
        "<a href=\"https://colab.research.google.com/github/sandeeppatra49/My-codes/blob/main/Practice/range_of_the_number.ipynb\" target=\"_parent\"><img src=\"https://colab.research.google.com/assets/colab-badge.svg\" alt=\"Open In Colab\"/></a>"
      ]
    },
    {
      "cell_type": "markdown",
      "source": [
        "# Take a number as input and print the number range"
      ],
      "metadata": {
        "id": "qIQkbEunHmF2"
      }
    },
    {
      "cell_type": "code",
      "execution_count": 20,
      "metadata": {
        "colab": {
          "base_uri": "https://localhost:8080/"
        },
        "id": "Hau5eD39HkmC",
        "outputId": "ce244ff7-8bed-4237-a914-a836b39b382b"
      },
      "outputs": [
        {
          "name": "stdout",
          "output_type": "stream",
          "text": [
            "Enter a number95\n"
          ]
        }
      ],
      "source": [
        "n=int(input('Enter a number'))"
      ]
    },
    {
      "cell_type": "code",
      "source": [
        "if n>=1 and n<=10:\n",
        "  print(f'{n} is in range of 1 to 10')\n",
        "if n>=11 and n<=20:\n",
        "  print(f'{n} is in range of 11 to 20')\n",
        "if n>=21 and n<=30:\n",
        "  print(f'{n} is in range of 21 to 30')\n",
        "if n>31 and n<=40:\n",
        "  print(f'{n} is in range of 31 to 40')\n",
        "if n>=41 and n<=50:\n",
        "  print(f'{n} is in range of 41 to 50')\n",
        "if n>=51 and n<=60:\n",
        "  print(f'{n} is in range of 51 to 60')\n",
        "if n>61 and n<=70:\n",
        "  print(f'{n} is in range of 61 to 70')\n",
        "if n>=71 and n<=80:\n",
        "  print(f'{n} is in range of 71 to 80')\n",
        "if n>=81 and n<=90:\n",
        "  print(f'{n} is in range of 81 to 90')\n",
        "if n>=91 and n<=100:\n",
        "  print(f'{n} is in range of 91 to 100')"
      ],
      "metadata": {
        "colab": {
          "base_uri": "https://localhost:8080/"
        },
        "id": "JNtzrNm1IBe0",
        "outputId": "34f5ea88-7aa4-45c8-eaeb-4f3edc124613"
      },
      "execution_count": 21,
      "outputs": [
        {
          "output_type": "stream",
          "name": "stdout",
          "text": [
            "95 is in range of 91 to 100\n"
          ]
        }
      ]
    },
    {
      "cell_type": "code",
      "source": [
        ""
      ],
      "metadata": {
        "id": "lv2oHbQMIWvx"
      },
      "execution_count": 2,
      "outputs": []
    }
  ]
}