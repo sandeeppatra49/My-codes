{
  "nbformat": 4,
  "nbformat_minor": 0,
  "metadata": {
    "colab": {
      "name": "Transfer statements.ipynb",
      "provenance": [],
      "authorship_tag": "ABX9TyMM1sBFS4urbaWB3MTFJFjw",
      "include_colab_link": true
    },
    "kernelspec": {
      "name": "python3",
      "display_name": "Python 3"
    },
    "language_info": {
      "name": "python"
    }
  },
  "cells": [
    {
      "cell_type": "markdown",
      "metadata": {
        "id": "view-in-github",
        "colab_type": "text"
      },
      "source": [
        "<a href=\"https://colab.research.google.com/github/sandeeppatra49/My-codes/blob/main/Practice/Transfer_statements.ipynb\" target=\"_parent\"><img src=\"https://colab.research.google.com/assets/colab-badge.svg\" alt=\"Open In Colab\"/></a>"
      ]
    },
    {
      "cell_type": "code",
      "source": [
        "for i in range(10):\n",
        "  if i==7:\n",
        "    print('processing is enough break the loop execution')\n",
        "    break\n",
        "  print(i)\n",
        "print('outside of loop')"
      ],
      "metadata": {
        "colab": {
          "base_uri": "https://localhost:8080/"
        },
        "id": "0zxPabf5ab1X",
        "outputId": "2521783b-c9fd-4b85-cb3f-60b3c72499a0"
      },
      "execution_count": null,
      "outputs": [
        {
          "output_type": "stream",
          "name": "stdout",
          "text": [
            "0\n",
            "1\n",
            "2\n",
            "3\n",
            "4\n",
            "5\n",
            "6\n",
            "processing is enough break the loop execution\n",
            "outside of loop\n"
          ]
        }
      ]
    },
    {
      "cell_type": "code",
      "source": [
        "for x in range(20):\n",
        "  if x==15:\n",
        "    print(x)\n",
        "    print('we are stopping program execution')\n",
        "    break\n",
        "  print(x)\n",
        "print('Hello')"
      ],
      "metadata": {
        "colab": {
          "base_uri": "https://localhost:8080/"
        },
        "id": "5Ibt2fRqa981",
        "outputId": "53538c2a-e2cf-4698-ae97-8990131a37b3"
      },
      "execution_count": null,
      "outputs": [
        {
          "output_type": "stream",
          "name": "stdout",
          "text": [
            "0\n",
            "1\n",
            "2\n",
            "3\n",
            "4\n",
            "5\n",
            "6\n",
            "7\n",
            "8\n",
            "9\n",
            "10\n",
            "11\n",
            "12\n",
            "13\n",
            "14\n",
            "15\n",
            "we are stopping program execution\n",
            "Hello\n"
          ]
        }
      ]
    },
    {
      "cell_type": "code",
      "source": [
        "cart=[10,20,30,500,600,700,80]\n",
        "for item in cart:\n",
        "  if item>500:\n",
        "    print('to place the product, insurance must be required. Otherwise we cant proceed further')\n",
        "    break\n",
        "  print('processing item:', item)"
      ],
      "metadata": {
        "colab": {
          "base_uri": "https://localhost:8080/"
        },
        "id": "m6iauEg6n9XB",
        "outputId": "bcb367fa-0352-45f8-eb4c-0e8087f1f4ac"
      },
      "execution_count": null,
      "outputs": [
        {
          "output_type": "stream",
          "name": "stdout",
          "text": [
            "processing item: 10\n",
            "processing item: 20\n",
            "processing item: 30\n",
            "processing item: 500\n",
            "to place the product, insurance must be required. Otherwise we cant proceed further\n"
          ]
        }
      ]
    },
    {
      "cell_type": "code",
      "source": [
        "for i in range(1,10):\n",
        "  if i%3==0:\n",
        "    break\n",
        "  print(i)"
      ],
      "metadata": {
        "id": "tBMbQyR4orWg",
        "colab": {
          "base_uri": "https://localhost:8080/"
        },
        "outputId": "3eb554bf-ba7e-4c3d-fb44-56e703428dbd"
      },
      "execution_count": 16,
      "outputs": [
        {
          "output_type": "stream",
          "name": "stdout",
          "text": [
            "1\n",
            "2\n"
          ]
        }
      ]
    },
    {
      "cell_type": "code",
      "source": [
        "for i in range(10):\n",
        "  if i%2==0:\n",
        "    continue\n",
        "  print(i)"
      ],
      "metadata": {
        "colab": {
          "base_uri": "https://localhost:8080/"
        },
        "id": "UsCp93Ti3r76",
        "outputId": "dba41e9f-7ad7-4b75-c2cf-283bbe6ebe02"
      },
      "execution_count": 5,
      "outputs": [
        {
          "output_type": "stream",
          "name": "stdout",
          "text": [
            "1\n",
            "3\n",
            "5\n",
            "7\n",
            "9\n"
          ]
        }
      ]
    },
    {
      "cell_type": "code",
      "source": [
        "for i in range(1,10,2):\n",
        "  print(i)"
      ],
      "metadata": {
        "colab": {
          "base_uri": "https://localhost:8080/"
        },
        "id": "5E0_RCXq4UFF",
        "outputId": "ee4e5543-f247-4656-be30-0df8699cc86b"
      },
      "execution_count": 18,
      "outputs": [
        {
          "output_type": "stream",
          "name": "stdout",
          "text": [
            "1\n",
            "3\n",
            "5\n",
            "7\n",
            "9\n"
          ]
        }
      ]
    },
    {
      "cell_type": "code",
      "source": [
        "cart=[10,20,600,30,700,80,90]\n",
        "for item in cart:\n",
        "  if item>500:\n",
        "    print('insurence must be required, just skipping the item:', item)\n",
        "    continue\n",
        "  print('processing item:', item)"
      ],
      "metadata": {
        "colab": {
          "base_uri": "https://localhost:8080/"
        },
        "id": "t3VrN6Rw4Z9e",
        "outputId": "fc2c33ea-7721-42a3-a296-e8d85123d802"
      },
      "execution_count": 19,
      "outputs": [
        {
          "output_type": "stream",
          "name": "stdout",
          "text": [
            "processing item: 10\n",
            "processing item: 20\n",
            "insurence must be required, just skipping the item: 600\n",
            "processing item: 30\n",
            "insurence must be required, just skipping the item: 700\n",
            "processing item: 80\n",
            "processing item: 90\n"
          ]
        }
      ]
    },
    {
      "cell_type": "code",
      "source": [
        "l=[10,20,0,5,0,30]\n",
        "for i in l:\n",
        "  if i==0:\n",
        "    print('Hello stupid, How we can divide with zero')\n",
        "    continue\n",
        "  print('100/{}={}'.format(i,100/i))"
      ],
      "metadata": {
        "colab": {
          "base_uri": "https://localhost:8080/"
        },
        "id": "wuDXqmAM8uuw",
        "outputId": "95fdb9fa-6f46-4377-ee0c-3da2ed082df9"
      },
      "execution_count": 23,
      "outputs": [
        {
          "output_type": "stream",
          "name": "stdout",
          "text": [
            "100/10=10.0\n",
            "100/20=5.0\n",
            "Hello stupid, How we can divide with zero\n",
            "100/5=20.0\n",
            "Hello stupid, How we can divide with zero\n",
            "100/30=3.3333333333333335\n"
          ]
        }
      ]
    },
    {
      "cell_type": "code",
      "source": [
        "for i in range(3):\n",
        "  for j in range(3):\n",
        "    if i==j:\n",
        "      break\n",
        "    print(i,j)"
      ],
      "metadata": {
        "colab": {
          "base_uri": "https://localhost:8080/"
        },
        "id": "tBcXwBVrAtEO",
        "outputId": "4520a727-7495-4e1d-9793-dc8cbbf089d7"
      },
      "execution_count": 24,
      "outputs": [
        {
          "output_type": "stream",
          "name": "stdout",
          "text": [
            "1 0\n",
            "2 0\n",
            "2 1\n"
          ]
        }
      ]
    },
    {
      "cell_type": "code",
      "source": [
        "for i in range(3):\n",
        "  for j in range(3):\n",
        "    if i==j:\n",
        "      continue\n",
        "    print(i,j)"
      ],
      "metadata": {
        "colab": {
          "base_uri": "https://localhost:8080/"
        },
        "id": "RX8gFRKV1U64",
        "outputId": "167a3f17-9d80-4654-e3a7-a5aeaca62054"
      },
      "execution_count": 25,
      "outputs": [
        {
          "output_type": "stream",
          "name": "stdout",
          "text": [
            "0 1\n",
            "0 2\n",
            "1 0\n",
            "1 2\n",
            "2 0\n",
            "2 1\n"
          ]
        }
      ]
    },
    {
      "cell_type": "code",
      "source": [
        ""
      ],
      "metadata": {
        "id": "3yeVV1nW1gyW"
      },
      "execution_count": null,
      "outputs": []
    }
  ]
}