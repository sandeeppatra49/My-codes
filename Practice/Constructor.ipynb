{
  "nbformat": 4,
  "nbformat_minor": 0,
  "metadata": {
    "colab": {
      "name": "constructor.ipynb",
      "provenance": [],
      "authorship_tag": "ABX9TyO3/UhBFPo7Vebg/T/qSf7H",
      "include_colab_link": true
    },
    "kernelspec": {
      "name": "python3",
      "display_name": "Python 3"
    },
    "language_info": {
      "name": "python"
    }
  },
  "cells": [
    {
      "cell_type": "markdown",
      "metadata": {
        "id": "view-in-github",
        "colab_type": "text"
      },
      "source": [
        "<a href=\"https://colab.research.google.com/github/sandeeppatra49/My-codes/blob/main/Practice/Constructor.ipynb\" target=\"_parent\"><img src=\"https://colab.research.google.com/assets/colab-badge.svg\" alt=\"Open In Colab\"/></a>"
      ]
    },
    {
      "cell_type": "code",
      "execution_count": null,
      "metadata": {
        "colab": {
          "base_uri": "https://localhost:8080/"
        },
        "id": "kUA1aFCOgkOi",
        "outputId": "71071a1e-eb36-409d-873a-b7c804051095"
      },
      "outputs": [
        {
          "output_type": "stream",
          "name": "stdout",
          "text": [
            "Hello my name is: Sandeep\n",
            "my branch is: 1\n",
            "my roll no is: 97\n"
          ]
        }
      ],
      "source": [
        "class Student:\n",
        "  def __init__(delf,name,branch,rollno):\n",
        "    delf.name=name\n",
        "    delf.branch=branch\n",
        "    delf.rollno=rollno\n",
        "  def talk(kelf):\n",
        "    print('Hello my name is:',kelf.name)\n",
        "    print('my branch is:',kelf.branch)\n",
        "    print('my roll no is:',kelf.rollno)\n",
        "s=Student('Sandeep',1,97)\n",
        "s.talk()"
      ]
    },
    {
      "cell_type": "code",
      "source": [
        "class Test:\n",
        "  def __init__(self):\n",
        "    print('Constructor')\n",
        "t=Test()"
      ],
      "metadata": {
        "colab": {
          "base_uri": "https://localhost:8080/"
        },
        "id": "ZdP_x9EOhxNa",
        "outputId": "bf28ebb1-f52d-4f89-bf55-e9e0fd1a9151"
      },
      "execution_count": null,
      "outputs": [
        {
          "output_type": "stream",
          "name": "stdout",
          "text": [
            "Constructor\n"
          ]
        }
      ]
    },
    {
      "cell_type": "code",
      "source": [
        "class Test:\n",
        "  def __init__(self):\n",
        "    print('Constructor Execution......')\n",
        "t1=Test()\n",
        "t2=Test()\n",
        "t3=Test()\n",
        "t4=Test()"
      ],
      "metadata": {
        "colab": {
          "base_uri": "https://localhost:8080/"
        },
        "id": "vFuWX4DH4G2A",
        "outputId": "6f12928f-75fe-4cee-d89a-4f89cdb24987"
      },
      "execution_count": null,
      "outputs": [
        {
          "output_type": "stream",
          "name": "stdout",
          "text": [
            "Constructor Execution......\n",
            "Constructor Execution......\n",
            "Constructor Execution......\n",
            "Constructor Execution......\n"
          ]
        }
      ]
    },
    {
      "cell_type": "code",
      "source": [
        "class Xx:\n",
        "  def __init__(self,name,rollno,marks):\n",
        "    self.name=name\n",
        "    self.rollno=rollno\n",
        "    self.marks=marks\n",
        "s1=Xx('Siri',10,99)\n",
        "print(s1.name,s1.rollno,s1.marks)"
      ],
      "metadata": {
        "colab": {
          "base_uri": "https://localhost:8080/"
        },
        "id": "uZ7tH6Ma4bWG",
        "outputId": "ff78c48a-ec9f-4446-82de-c3a9f8f7e3c6"
      },
      "execution_count": null,
      "outputs": [
        {
          "output_type": "stream",
          "name": "stdout",
          "text": [
            "Siri 10 99\n"
          ]
        }
      ]
    },
    {
      "cell_type": "code",
      "source": [
        "class Test:\n",
        "  def m1(self):\n",
        "    print('method')\n",
        "t=Test()\n",
        "t.m1()"
      ],
      "metadata": {
        "colab": {
          "base_uri": "https://localhost:8080/"
        },
        "id": "HiDiDrmA6kRN",
        "outputId": "a3c6674e-8d77-4d66-e723-6f05a120a989"
      },
      "execution_count": null,
      "outputs": [
        {
          "output_type": "stream",
          "name": "stdout",
          "text": [
            "method\n"
          ]
        }
      ]
    },
    {
      "cell_type": "code",
      "source": [
        "class Test:\n",
        "  def __init__(self):\n",
        "    print('Constructor Execution.....')\n",
        "t=Test()\n",
        "t.__init__()\n",
        "t.__init__()\n",
        "t.__init__()\n"
      ],
      "metadata": {
        "colab": {
          "base_uri": "https://localhost:8080/"
        },
        "id": "iKgdJJs6H-B5",
        "outputId": "8652ed10-6925-4bb3-ee61-27214c56132f"
      },
      "execution_count": null,
      "outputs": [
        {
          "output_type": "stream",
          "name": "stdout",
          "text": [
            "Constructor Execution.....\n",
            "Constructor Execution.....\n",
            "Constructor Execution.....\n",
            "Constructor Execution.....\n"
          ]
        }
      ]
    },
    {
      "cell_type": "code",
      "source": [
        "class Test:\n",
        "  def __init__(self):\n",
        "    print('no-arg constructor')\n",
        "  def __init__(self,x):\n",
        "    print('one-arg constructor')\n",
        "#t1=Test()\n",
        "t2=Test(10)"
      ],
      "metadata": {
        "colab": {
          "base_uri": "https://localhost:8080/"
        },
        "id": "xuSIPqvZMRCW",
        "outputId": "7c25deb1-ad7e-4fd1-f2a4-6eb8d4e1a54d"
      },
      "execution_count": null,
      "outputs": [
        {
          "output_type": "stream",
          "name": "stdout",
          "text": [
            "one-arg constructor\n"
          ]
        }
      ]
    },
    {
      "cell_type": "code",
      "source": [
        " "
      ],
      "metadata": {
        "id": "AgEvuFuQM-VT"
      },
      "execution_count": null,
      "outputs": []
    }
  ]
}