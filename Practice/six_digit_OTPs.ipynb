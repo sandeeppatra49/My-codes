{
  "cells": [
    {
      "cell_type": "markdown",
      "metadata": {
        "id": "view-in-github",
        "colab_type": "text"
      },
      "source": [
        "<a href=\"https://colab.research.google.com/github/sandeeppatra49/My-codes/blob/main/Practice/six_digit_OTPs.ipynb\" target=\"_parent\"><img src=\"https://colab.research.google.com/assets/colab-badge.svg\" alt=\"Open In Colab\"/></a>"
      ]
    },
    {
      "cell_type": "markdown",
      "source": [
        "# Print 10 six digits of OTPs"
      ],
      "metadata": {
        "id": "cxbZxZzHKvKq"
      },
      "id": "cxbZxZzHKvKq"
    },
    {
      "cell_type": "code",
      "execution_count": 1,
      "id": "0bc37232",
      "metadata": {
        "id": "0bc37232"
      },
      "outputs": [],
      "source": [
        "from random import randint"
      ]
    },
    {
      "cell_type": "code",
      "execution_count": 2,
      "id": "3a8f69e5",
      "metadata": {
        "id": "3a8f69e5",
        "outputId": "feb81abd-f280-4cc9-d7a4-78a7dfc1d7a7",
        "colab": {
          "base_uri": "https://localhost:8080/"
        }
      },
      "outputs": [
        {
          "output_type": "stream",
          "name": "stdout",
          "text": [
            "403819\n",
            "887554\n",
            "645512\n",
            "195552\n",
            "227570\n",
            "851200\n",
            "199467\n",
            "854713\n",
            "685761\n",
            "462959\n"
          ]
        }
      ],
      "source": [
        "for i in range (10):\n",
        "        print(randint(0,9),randint(0,9),randint(0,9),randint(0,9),randint(0,9),randint(0,9),sep='')"
      ]
    },
    {
      "cell_type": "code",
      "execution_count": null,
      "id": "001d8dac",
      "metadata": {
        "id": "001d8dac"
      },
      "outputs": [],
      "source": [
        ""
      ]
    }
  ],
  "metadata": {
    "kernelspec": {
      "display_name": "Python 3 (ipykernel)",
      "language": "python",
      "name": "python3"
    },
    "language_info": {
      "codemirror_mode": {
        "name": "ipython",
        "version": 3
      },
      "file_extension": ".py",
      "mimetype": "text/x-python",
      "name": "python",
      "nbconvert_exporter": "python",
      "pygments_lexer": "ipython3",
      "version": "3.9.7"
    },
    "colab": {
      "name": "six digit OTPs.ipynb",
      "provenance": [],
      "include_colab_link": true
    }
  },
  "nbformat": 4,
  "nbformat_minor": 5
}