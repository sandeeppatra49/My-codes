{
  "nbformat": 4,
  "nbformat_minor": 0,
  "metadata": {
    "colab": {
      "name": "user input programs.ipynb",
      "provenance": [],
      "collapsed_sections": [],
      "authorship_tag": "ABX9TyPsAQHgoLAq0mmkLOdn5C7v",
      "include_colab_link": true
    },
    "kernelspec": {
      "name": "python3",
      "display_name": "Python 3"
    },
    "language_info": {
      "name": "python"
    }
  },
  "cells": [
    {
      "cell_type": "markdown",
      "metadata": {
        "id": "view-in-github",
        "colab_type": "text"
      },
      "source": [
        "<a href=\"https://colab.research.google.com/github/sandeeppatra49/My-codes/blob/main/Practice/user_input_programs.ipynb\" target=\"_parent\"><img src=\"https://colab.research.google.com/assets/colab-badge.svg\" alt=\"Open In Colab\"/></a>"
      ]
    },
    {
      "cell_type": "markdown",
      "source": [
        "# WAP to print table of n, whwre n is entered by the user?"
      ],
      "metadata": {
        "id": "9zG0wyFdgGvw"
      }
    },
    {
      "cell_type": "code",
      "execution_count": null,
      "metadata": {
        "id": "NcLwGya4w5fJ",
        "colab": {
          "base_uri": "https://localhost:8080/"
        },
        "outputId": "33a8b26b-9d66-4fd1-8c90-0306ff62536a"
      },
      "outputs": [
        {
          "output_type": "stream",
          "name": "stdout",
          "text": [
            "enter the n value5\n",
            "5\n",
            "10\n",
            "15\n",
            "20\n",
            "25\n",
            "30\n",
            "35\n",
            "40\n",
            "45\n",
            "50\n"
          ]
        }
      ],
      "source": [
        "n=int(input('enter the n value'))\n",
        "for i in range(11):\n",
        "  if i==0:\n",
        "    continue\n",
        "  print(n*i)"
      ]
    },
    {
      "cell_type": "markdown",
      "source": [
        "# WAP to print n natural numbers, where n is entered by user?\n",
        "\n",
        "\n",
        "\n"
      ],
      "metadata": {
        "id": "tcIVtwmFg-Dl"
      }
    },
    {
      "cell_type": "code",
      "source": [
        "n=int(input('enter the n value:'))\n",
        "sum=0\n",
        "i=0\n",
        "while i<=n:\n",
        "  sum=sum+i\n",
        "  i=i+1\n",
        "print('The sum:', sum)"
      ],
      "metadata": {
        "colab": {
          "base_uri": "https://localhost:8080/"
        },
        "id": "49J-IHlXgzeE",
        "outputId": "b114fe36-778d-47b4-dcd0-55aa0061c0bb"
      },
      "execution_count": null,
      "outputs": [
        {
          "output_type": "stream",
          "name": "stdout",
          "text": [
            "enter the n value2\n",
            "The sum: 3\n"
          ]
        }
      ]
    },
    {
      "cell_type": "markdown",
      "source": [
        "# Wap to print factorial of given number"
      ],
      "metadata": {
        "id": "i48VQvoBh6CR"
      }
    },
    {
      "cell_type": "code",
      "source": [
        "n=int(input('enter the n value:'))\n",
        "mul=1\n",
        "i=1\n",
        "while i<=n:\n",
        "  mul=mul*i\n",
        "  i=i+1\n",
        "print('the bfactorial of num:', mul)"
      ],
      "metadata": {
        "colab": {
          "base_uri": "https://localhost:8080/"
        },
        "id": "j8mqXht3hzZy",
        "outputId": "1e0bedad-bbac-47bc-e705-080ad73e4bad"
      },
      "execution_count": null,
      "outputs": [
        {
          "output_type": "stream",
          "name": "stdout",
          "text": [
            "enter the n value:3\n",
            "the bfactorial of num: 6\n"
          ]
        }
      ]
    },
    {
      "cell_type": "markdown",
      "source": [
        "# WAP to input sales of the month and calculate the average sales of that month?"
      ],
      "metadata": {
        "id": "60k70k0bkCSM"
      }
    },
    {
      "cell_type": "code",
      "source": [
        "sales=input('Enter elements of list separated by space:')\n",
        "sales_1=sales.split()\n",
        "l=len(sales_1)\n",
        "print('list:',sales_1)\n",
        "for i in range(len(sales_1)):\n",
        "    sales_1 [i]=int(sales_1[i])\n",
        "print('sum=', sum(sales_1))\n",
        "print(l)\n",
        "print('Average:', sum(sales_1)/len(sales_1))"
      ],
      "metadata": {
        "id": "iag2zYMFi0mo",
        "colab": {
          "base_uri": "https://localhost:8080/"
        },
        "outputId": "a70eec0e-9f5c-4657-d95f-6a89ab9bbbb9"
      },
      "execution_count": 9,
      "outputs": [
        {
          "output_type": "stream",
          "name": "stdout",
          "text": [
            "Enter elements of list separated by space:5 5 5 5 5\n",
            "list: ['5', '5', '5', '5', '5']\n",
            "sum= 25\n",
            "5\n",
            "Average: 5.0\n"
          ]
        }
      ]
    },
    {
      "cell_type": "code",
      "source": [
        ""
      ],
      "metadata": {
        "id": "mkexcWhwc2hv"
      },
      "execution_count": null,
      "outputs": []
    }
  ]
}