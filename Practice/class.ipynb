{
  "nbformat": 4,
  "nbformat_minor": 0,
  "metadata": {
    "colab": {
      "name": "class.ipynb",
      "provenance": [],
      "authorship_tag": "ABX9TyPgaWlS+NeSyeRNnY92vHtS",
      "include_colab_link": true
    },
    "kernelspec": {
      "name": "python3",
      "display_name": "Python 3"
    },
    "language_info": {
      "name": "python"
    }
  },
  "cells": [
    {
      "cell_type": "markdown",
      "metadata": {
        "id": "view-in-github",
        "colab_type": "text"
      },
      "source": [
        "<a href=\"https://colab.research.google.com/github/sandeeppatra49/My-codes/blob/main/Practice/class.ipynb\" target=\"_parent\"><img src=\"https://colab.research.google.com/assets/colab-badge.svg\" alt=\"Open In Colab\"/></a>"
      ]
    },
    {
      "cell_type": "code",
      "execution_count": 5,
      "metadata": {
        "id": "VIxFpzjkSzpB"
      },
      "outputs": [],
      "source": [
        "class human:\n",
        "  name=None\n",
        "  age=None\n",
        "  def get_name(self):\n",
        "    print('Enter your name:')\n",
        "    self.name = input()\n",
        "  def get_age(self):\n",
        "    print('Eneter your age:')\n",
        "    self.age=input()\n",
        "  def put_name(self):\n",
        "    print('Your name is:',self.name)\n",
        "  def put_age(self):\n",
        "    print('Your age is:',self.age)"
      ]
    },
    {
      "cell_type": "code",
      "source": [
        "person1=human()     #create an object\n",
        "person1.get_name()  #call the methods\n",
        "person1.get_age()"
      ],
      "metadata": {
        "colab": {
          "base_uri": "https://localhost:8080/"
        },
        "id": "VXuAKIBRTS3a",
        "outputId": "22593399-7c45-4f26-cad4-34bbd8a1b4d3"
      },
      "execution_count": 30,
      "outputs": [
        {
          "name": "stdout",
          "output_type": "stream",
          "text": [
            "Enter your name:\n",
            "bapi\n",
            "Eneter your age:\n",
            "21\n"
          ]
        }
      ]
    },
    {
      "cell_type": "code",
      "source": [
        "person1.put_name()\n",
        "person1.put_age()"
      ],
      "metadata": {
        "colab": {
          "base_uri": "https://localhost:8080/"
        },
        "id": "S4i1zgjlWgUg",
        "outputId": "5298eb28-78ca-4035-d850-68fd7190d24b"
      },
      "execution_count": 31,
      "outputs": [
        {
          "output_type": "stream",
          "name": "stdout",
          "text": [
            "Your name is: bapi\n",
            "Your age is: 21\n"
          ]
        }
      ]
    },
    {
      "cell_type": "code",
      "source": [
        "class food:\n",
        "  order=None\n",
        "  def get_order(self):\n",
        "    print('Enter your order')\n",
        "    self.order=input()\n",
        "  def put_order(self):\n",
        "    print('Your order:',self.order)"
      ],
      "metadata": {
        "id": "XEyOx6W4WpVZ"
      },
      "execution_count": 42,
      "outputs": []
    },
    {
      "cell_type": "code",
      "source": [
        "order1=food()\n",
        "order1.get_order()"
      ],
      "metadata": {
        "colab": {
          "base_uri": "https://localhost:8080/"
        },
        "id": "W8g4ha6FYI_A",
        "outputId": "1ddc55e6-805b-42ca-b384-018c3e600c87"
      },
      "execution_count": 43,
      "outputs": [
        {
          "name": "stdout",
          "output_type": "stream",
          "text": [
            "Enter your order\n",
            "pizza\n"
          ]
        }
      ]
    },
    {
      "cell_type": "code",
      "source": [
        "order1.put_order()"
      ],
      "metadata": {
        "colab": {
          "base_uri": "https://localhost:8080/"
        },
        "id": "E5khbSlYZyfF",
        "outputId": "6e1d8c41-d085-4a75-9e46-0fe24983315f"
      },
      "execution_count": 44,
      "outputs": [
        {
          "output_type": "stream",
          "name": "stdout",
          "text": [
            "Your order: pizza\n"
          ]
        }
      ]
    },
    {
      "cell_type": "code",
      "source": [
        ""
      ],
      "metadata": {
        "id": "8vsHiw2QZ5im"
      },
      "execution_count": 25,
      "outputs": []
    }
  ]
}