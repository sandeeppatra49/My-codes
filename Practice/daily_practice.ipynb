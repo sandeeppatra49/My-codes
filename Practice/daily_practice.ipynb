{
  "nbformat": 4,
  "nbformat_minor": 0,
  "metadata": {
    "colab": {
      "name": "daily practice.ipynb",
      "provenance": [],
      "authorship_tag": "ABX9TyMc2fPUeI9K8hUNvixFnOEO",
      "include_colab_link": true
    },
    "kernelspec": {
      "name": "python3",
      "display_name": "Python 3"
    },
    "language_info": {
      "name": "python"
    }
  },
  "cells": [
    {
      "cell_type": "markdown",
      "metadata": {
        "id": "view-in-github",
        "colab_type": "text"
      },
      "source": [
        "<a href=\"https://colab.research.google.com/github/sandeeppatra49/My-codes/blob/main/Practice/daily_practice.ipynb\" target=\"_parent\"><img src=\"https://colab.research.google.com/assets/colab-badge.svg\" alt=\"Open In Colab\"/></a>"
      ]
    },
    {
      "cell_type": "code",
      "execution_count": null,
      "metadata": {
        "colab": {
          "base_uri": "https://localhost:8080/"
        },
        "id": "NoCd5pS1iuQk",
        "outputId": "46ebc42d-8088-46b6-f93a-435096d5d483"
      },
      "outputs": [
        {
          "output_type": "stream",
          "name": "stdout",
          "text": [
            "1\n",
            "['1', '2', '3', '4']\n",
            "[6, 6, '3', '4']\n",
            "[6, 6, '3', '4', 9]\n",
            "[6, 6, '3', '4', 9, 'Bapi']\n",
            "[6, 6, '3', 9, 'Bapi']\n",
            "[6, '3', 9, 'Bapi']\n"
          ]
        }
      ],
      "source": [
        "i=list('1234')\n",
        "print(i[0])\n",
        "print(i)\n",
        "i[0]=i[1]=6\n",
        "print(i)\n",
        "i.append(9)\n",
        "print(i)\n",
        "i.append('Bapi')\n",
        "print(i)\n",
        "i.pop(3)\n",
        "print(i)\n",
        "del i[1]\n",
        "print(i)"
      ]
    },
    {
      "cell_type": "code",
      "source": [
        "set1={1,2,3,int('4')}\n",
        "set2={3,str(4)}\n",
        "set1.union(set2)"
      ],
      "metadata": {
        "colab": {
          "base_uri": "https://localhost:8080/"
        },
        "id": "s-rHLlgVi3Vv",
        "outputId": "21d5837f-3f95-467a-acc8-25f3ae97a8eb"
      },
      "execution_count": null,
      "outputs": [
        {
          "output_type": "execute_result",
          "data": {
            "text/plain": [
              "{1, 2, 3, 4, '4'}"
            ]
          },
          "metadata": {},
          "execution_count": 2
        }
      ]
    },
    {
      "cell_type": "code",
      "source": [
        "set1={1,2,3,int('4')}\n",
        "set2={3,str(4)}\n",
        "set1.intersection(set2)"
      ],
      "metadata": {
        "colab": {
          "base_uri": "https://localhost:8080/"
        },
        "id": "KTGG0Kbbmcte",
        "outputId": "546abadc-0a57-4feb-e483-7cdca730e706"
      },
      "execution_count": null,
      "outputs": [
        {
          "output_type": "execute_result",
          "data": {
            "text/plain": [
              "{3}"
            ]
          },
          "metadata": {},
          "execution_count": 3
        }
      ]
    },
    {
      "cell_type": "code",
      "source": [
        "a={1,'sandeep'}\n",
        "b={2,'love','siri'}\n",
        "a.union(b)"
      ],
      "metadata": {
        "colab": {
          "base_uri": "https://localhost:8080/"
        },
        "id": "FVSUb6wAnPOE",
        "outputId": "4b533307-a79c-40b8-a795-d192515d5ee3"
      },
      "execution_count": null,
      "outputs": [
        {
          "output_type": "execute_result",
          "data": {
            "text/plain": [
              "{1, 2, 'love', 'sandeep', 'siri'}"
            ]
          },
          "metadata": {},
          "execution_count": 4
        }
      ]
    },
    {
      "cell_type": "code",
      "source": [
        "a={1,'sandeep','love'}\n",
        "b={2,'siri','love'}\n",
        "a.intersection(b)"
      ],
      "metadata": {
        "colab": {
          "base_uri": "https://localhost:8080/"
        },
        "outputId": "318e2512-1d46-494e-c244-4b694a518626",
        "id": "vsCEmsVgo5ya"
      },
      "execution_count": null,
      "outputs": [
        {
          "output_type": "execute_result",
          "data": {
            "text/plain": [
              "{'love'}"
            ]
          },
          "metadata": {},
          "execution_count": 5
        }
      ]
    },
    {
      "cell_type": "code",
      "source": [
        "class Team:\n",
        "  '''This team is created by sandeep'''\n",
        "  def __init__(self,name,phoneno,education):\n",
        "    self.name=name\n",
        "    self.phoneno=phoneno\n",
        "    self.education=education\n",
        "  def talk(self):\n",
        "    print('The name of the member:',self.name)\n",
        "    print('The contact number:',self.phoneno)\n",
        "    print('Qualification:',self.education)    \n",
        "Person1=Team('sandeep',7808703926,'B.Tech')\n",
        "Person1.talk()\n",
        "print()\n",
        "Person2=Team('sridhar',8839726123,'B.Tech')\n",
        "Person2.talk()\n",
        "print()\n",
        "Person3=Team('dora',7683970082,'B.Tech')\n",
        "Person3.talk()\n",
        "print()\n",
        "Person4=Team('roshali',7080832697,'B.Tech')\n",
        "Person4.talk()"
      ],
      "metadata": {
        "id": "sDaKO1E4q87k",
        "colab": {
          "base_uri": "https://localhost:8080/"
        },
        "outputId": "8fe1e7c7-7cd8-419b-d71e-d8bd649781b8"
      },
      "execution_count": 14,
      "outputs": [
        {
          "output_type": "stream",
          "name": "stdout",
          "text": [
            "The name of the member: sandeep\n",
            "The contact number: 7808703926\n",
            "Qualification: B.Tech\n",
            "\n",
            "The name of the member: sridhar\n",
            "The contact number: 8839726123\n",
            "Qualification: B.Tech\n",
            "\n",
            "The name of the member: dora\n",
            "The contact number: 7683970082\n",
            "Qualification: B.Tech\n",
            "\n",
            "The name of the member: roshali\n",
            "The contact number: 7080832697\n",
            "Qualification: B.Tech\n"
          ]
        }
      ]
    },
    {
      "cell_type": "code",
      "source": [
        "x=[10,20,30]\n",
        "x.append(40)\n",
        "print(x)"
      ],
      "metadata": {
        "colab": {
          "base_uri": "https://localhost:8080/"
        },
        "id": "Z2O38W-YGCkk",
        "outputId": "894072c9-7f9f-40a1-bc57-10a26d7eb3d5"
      },
      "execution_count": 12,
      "outputs": [
        {
          "output_type": "stream",
          "name": "stdout",
          "text": [
            "[10, 20, 30, 40]\n"
          ]
        }
      ]
    },
    {
      "cell_type": "code",
      "source": [
        "x=[10,20,30]\n",
        "x.append(60)\n",
        "print(x)"
      ],
      "metadata": {
        "colab": {
          "base_uri": "https://localhost:8080/"
        },
        "id": "k3kX0uSzYzMK",
        "outputId": "5fbb5d84-3f20-402b-f0c2-e33238de491c"
      },
      "execution_count": 13,
      "outputs": [
        {
          "output_type": "stream",
          "name": "stdout",
          "text": [
            "[10, 20, 30, 60]\n"
          ]
        }
      ]
    },
    {
      "cell_type": "code",
      "source": [
        "x=[10,20,30]\n",
        "x.insert(1,'Siri')\n",
        "print(x)"
      ],
      "metadata": {
        "colab": {
          "base_uri": "https://localhost:8080/"
        },
        "id": "RRNK_13eZS05",
        "outputId": "9c947631-2234-4cdf-bf90-a76f6247f752"
      },
      "execution_count": 14,
      "outputs": [
        {
          "output_type": "stream",
          "name": "stdout",
          "text": [
            "[10, 'Siri', 20, 30]\n"
          ]
        }
      ]
    },
    {
      "cell_type": "code",
      "source": [
        "x=[10,20,30,20]\n",
        "x.count(20)"
      ],
      "metadata": {
        "colab": {
          "base_uri": "https://localhost:8080/"
        },
        "id": "nftaUMJ7ajPE",
        "outputId": "b5e489eb-4abc-42f9-9c79-55251624bdd7"
      },
      "execution_count": 17,
      "outputs": [
        {
          "output_type": "execute_result",
          "data": {
            "text/plain": [
              "2"
            ]
          },
          "metadata": {},
          "execution_count": 17
        }
      ]
    },
    {
      "cell_type": "code",
      "source": [
        "x=[10,20,30]\n",
        "x.clear()\n",
        "print(x)"
      ],
      "metadata": {
        "colab": {
          "base_uri": "https://localhost:8080/"
        },
        "id": "Jy-pVYhoasw6",
        "outputId": "9c379c3a-c141-40a0-d293-ea79300301bf"
      },
      "execution_count": 19,
      "outputs": [
        {
          "output_type": "stream",
          "name": "stdout",
          "text": [
            "[]\n"
          ]
        }
      ]
    },
    {
      "cell_type": "code",
      "source": [
        "x=[10,20,30]\n",
        "x.index(10)"
      ],
      "metadata": {
        "colab": {
          "base_uri": "https://localhost:8080/"
        },
        "id": "BxjkRwmfa5x3",
        "outputId": "aacdedf2-e27d-416d-c4c0-6661be634433"
      },
      "execution_count": 20,
      "outputs": [
        {
          "output_type": "execute_result",
          "data": {
            "text/plain": [
              "0"
            ]
          },
          "metadata": {},
          "execution_count": 20
        }
      ]
    },
    {
      "cell_type": "code",
      "source": [
        "x=[10,20,30]\n",
        "x.remove(10)\n",
        "print(x)"
      ],
      "metadata": {
        "colab": {
          "base_uri": "https://localhost:8080/"
        },
        "id": "4OaCqBrcbDPg",
        "outputId": "92ca844b-a73b-49fd-9728-8eea0f9c0729"
      },
      "execution_count": 22,
      "outputs": [
        {
          "output_type": "stream",
          "name": "stdout",
          "text": [
            "[20, 30]\n"
          ]
        }
      ]
    },
    {
      "cell_type": "code",
      "source": [
        "x=[10,20,30]\n",
        "x.pop(2)\n",
        "print(x)"
      ],
      "metadata": {
        "colab": {
          "base_uri": "https://localhost:8080/"
        },
        "id": "Ulp1YZHCbMIn",
        "outputId": "5c36240e-d96f-487a-d50a-37644325d3c4"
      },
      "execution_count": 24,
      "outputs": [
        {
          "output_type": "stream",
          "name": "stdout",
          "text": [
            "[10, 20]\n"
          ]
        }
      ]
    },
    {
      "cell_type": "code",
      "source": [
        "x=[10,20,30]\n",
        "del x[1]\n",
        "print(x)"
      ],
      "metadata": {
        "colab": {
          "base_uri": "https://localhost:8080/"
        },
        "id": "vhWCRlZsbV1d",
        "outputId": "39e0e7b6-bdda-44d5-ed15-7baea618326e"
      },
      "execution_count": 30,
      "outputs": [
        {
          "output_type": "stream",
          "name": "stdout",
          "text": [
            "[10, 30]\n"
          ]
        }
      ]
    },
    {
      "cell_type": "code",
      "source": [
        "x=[10,20,30]\n",
        "x.reverse()\n",
        "print(x)"
      ],
      "metadata": {
        "colab": {
          "base_uri": "https://localhost:8080/"
        },
        "id": "lTw73GxFbgj1",
        "outputId": "5664e8cd-1d5e-457c-a341-c2dea2967217"
      },
      "execution_count": 32,
      "outputs": [
        {
          "output_type": "stream",
          "name": "stdout",
          "text": [
            "[30, 20, 10]\n"
          ]
        }
      ]
    },
    {
      "cell_type": "code",
      "source": [
        "x=[100,75,50,25]\n",
        "x.sort()\n",
        "print(x)"
      ],
      "metadata": {
        "colab": {
          "base_uri": "https://localhost:8080/"
        },
        "id": "5bzWTE4GcLaZ",
        "outputId": "f5e40180-4d1d-4c14-b615-4b2b6b711a5e"
      },
      "execution_count": 35,
      "outputs": [
        {
          "output_type": "stream",
          "name": "stdout",
          "text": [
            "[25, 50, 75, 100]\n"
          ]
        }
      ]
    },
    {
      "cell_type": "code",
      "source": [
        "x=[10,20,30]\n",
        "x.copy()"
      ],
      "metadata": {
        "colab": {
          "base_uri": "https://localhost:8080/"
        },
        "id": "d6CUE5XKcTBW",
        "outputId": "e07d3967-34df-48a3-b082-9bba64e821b3"
      },
      "execution_count": 36,
      "outputs": [
        {
          "output_type": "execute_result",
          "data": {
            "text/plain": [
              "[10, 20, 30]"
            ]
          },
          "metadata": {},
          "execution_count": 36
        }
      ]
    },
    {
      "cell_type": "code",
      "source": [
        " "
      ],
      "metadata": {
        "id": "IQ2Wqp4Kcw3A"
      },
      "execution_count": null,
      "outputs": []
    }
  ]
}