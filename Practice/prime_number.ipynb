{
  "nbformat": 4,
  "nbformat_minor": 0,
  "metadata": {
    "colab": {
      "name": "prime number.ipynb",
      "provenance": [],
      "authorship_tag": "ABX9TyNQzA6uQnI9F5N2WH1mVuRa",
      "include_colab_link": true
    },
    "kernelspec": {
      "name": "python3",
      "display_name": "Python 3"
    },
    "language_info": {
      "name": "python"
    }
  },
  "cells": [
    {
      "cell_type": "markdown",
      "metadata": {
        "id": "view-in-github",
        "colab_type": "text"
      },
      "source": [
        "<a href=\"https://colab.research.google.com/github/sandeeppatra49/My-codes/blob/main/Practice/prime_number.ipynb\" target=\"_parent\"><img src=\"https://colab.research.google.com/assets/colab-badge.svg\" alt=\"Open In Colab\"/></a>"
      ]
    },
    {
      "cell_type": "markdown",
      "source": [
        "# WAP to check weather the given number is prime or not"
      ],
      "metadata": {
        "id": "BNwh9x1lZ9yu"
      }
    },
    {
      "cell_type": "code",
      "execution_count": 14,
      "metadata": {
        "colab": {
          "base_uri": "https://localhost:8080/"
        },
        "id": "IIQ9iCLNrKf7",
        "outputId": "b0772dbd-d0a4-4197-e92b-6fb485ff61ac"
      },
      "outputs": [
        {
          "output_type": "stream",
          "name": "stdout",
          "text": [
            "Enter any number: 16\n",
            "it is not a prime number\n"
          ]
        }
      ],
      "source": [
        "n=int(input('Enter any number: '))\n",
        "if n<=1:\n",
        "  print('it is not a prime number')\n",
        "else:\n",
        "  is_prime=True\n",
        "  for i in range(2,n//2+1):\n",
        "    if n%i==0:\n",
        "      is_prime=False\n",
        "      break\n",
        "\n",
        "  if is_prime==True:\n",
        "    print('it is a prime number')\n",
        "  else:\n",
        "    print('it is not a prime number')"
      ]
    },
    {
      "cell_type": "markdown",
      "source": [
        "# To generate prime numbers which are less than or equal to given number"
      ],
      "metadata": {
        "id": "n2G8oef_Z-_d"
      }
    },
    {
      "cell_type": "code",
      "source": [
        "n=int(input('Enter any number: '))\n",
        "n1=2\n",
        "while n1<=n:\n",
        "  is_prime=True\n",
        "  for i in range(2,n1//2+1):\n",
        "    if n1%i==0:\n",
        "      is_prime=False\n",
        "      break\n",
        "\n",
        "  if is_prime==True:\n",
        "    print(n1)\n",
        "  n1=n1+1"
      ],
      "metadata": {
        "id": "VuRJ8QlmvuvA",
        "colab": {
          "base_uri": "https://localhost:8080/"
        },
        "outputId": "ccb76810-bd2a-47c6-c92c-e9f002f6058e"
      },
      "execution_count": 8,
      "outputs": [
        {
          "output_type": "stream",
          "name": "stdout",
          "text": [
            "Enter any number: 20\n",
            "2\n",
            "3\n",
            "5\n",
            "7\n",
            "11\n",
            "13\n",
            "17\n",
            "19\n"
          ]
        }
      ]
    },
    {
      "cell_type": "markdown",
      "source": [
        "# WAP to generate first n prime numbers"
      ],
      "metadata": {
        "id": "QjvpWCVWZ_hl"
      }
    },
    {
      "cell_type": "code",
      "source": [
        "n=int(input('Enter any number: '))\n",
        "count=0\n",
        "n1=2\n",
        "while True:\n",
        "  is_prime=True\n",
        "  for i in range(2,n1//2+1):\n",
        "    if n1%i==0:\n",
        "      is_prime=False\n",
        "      break\n",
        "  if is_prime==True:\n",
        "    print(n1)\n",
        "    count=count+1\n",
        "  if count==n:\n",
        "    break\n",
        "  n1=n1+1"
      ],
      "metadata": {
        "colab": {
          "base_uri": "https://localhost:8080/"
        },
        "id": "88lprP2lWTjJ",
        "outputId": "adb925f4-9d68-4764-c7b0-2d9c72e75a15"
      },
      "execution_count": 11,
      "outputs": [
        {
          "output_type": "stream",
          "name": "stdout",
          "text": [
            "Enter any number: 5\n",
            "2\n",
            "3\n",
            "5\n",
            "7\n",
            "11\n"
          ]
        }
      ]
    },
    {
      "cell_type": "code",
      "source": [
        ""
      ],
      "metadata": {
        "id": "vMu4lFG2dfh8"
      },
      "execution_count": null,
      "outputs": []
    }
  ]
}