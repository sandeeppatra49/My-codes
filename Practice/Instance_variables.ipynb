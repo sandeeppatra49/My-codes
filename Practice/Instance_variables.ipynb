{
  "nbformat": 4,
  "nbformat_minor": 0,
  "metadata": {
    "colab": {
      "name": "Instance variables.ipynb",
      "provenance": [],
      "collapsed_sections": [],
      "authorship_tag": "ABX9TyMfjsMdiPJSm4FmSJb6Ib13",
      "include_colab_link": true
    },
    "kernelspec": {
      "name": "python3",
      "display_name": "Python 3"
    },
    "language_info": {
      "name": "python"
    }
  },
  "cells": [
    {
      "cell_type": "markdown",
      "metadata": {
        "id": "view-in-github",
        "colab_type": "text"
      },
      "source": [
        "<a href=\"https://colab.research.google.com/github/sandeeppatra49/My-codes/blob/main/Practice/Instance_variables.ipynb\" target=\"_parent\"><img src=\"https://colab.research.google.com/assets/colab-badge.svg\" alt=\"Open In Colab\"/></a>"
      ]
    },
    {
      "cell_type": "code",
      "execution_count": 1,
      "metadata": {
        "colab": {
          "base_uri": "https://localhost:8080/"
        },
        "id": "XOvMS1nziiXF",
        "outputId": "b64c124e-12e0-43d1-d84e-0d8ba84c0cc1"
      },
      "outputs": [
        {
          "output_type": "stream",
          "name": "stdout",
          "text": [
            "{'a': 10, 'b': 20}\n"
          ]
        }
      ],
      "source": [
        "class Test:\n",
        "  def __init__(self):\n",
        "    self.a=10\n",
        "    self.b=20\n",
        "t=Test()\n",
        "print(t.__dict__)  #to see the values of instance variables"
      ]
    },
    {
      "cell_type": "code",
      "source": [
        "class Test:\n",
        "  def __init__(self):\n",
        "    self.a=10\n",
        "    self.b=20\n",
        "  def m1(self):\n",
        "    self.c=30 #instance method by using self\n",
        "t=Test()  #a,b will added to the object\n",
        "t.m1()  #c will added to the object\n",
        "print(t.__dict__)  #to see the values of instance variables"
      ],
      "metadata": {
        "colab": {
          "base_uri": "https://localhost:8080/"
        },
        "id": "iPMbXaugjCqy",
        "outputId": "37d35ac8-63f0-4aab-e0a2-a9d1a3bd3587"
      },
      "execution_count": 3,
      "outputs": [
        {
          "output_type": "stream",
          "name": "stdout",
          "text": [
            "{'a': 10, 'b': 20, 'c': 30}\n"
          ]
        }
      ]
    },
    {
      "cell_type": "code",
      "source": [
        "class Test:\n",
        "  def __init__(self):\n",
        "    self.a=10\n",
        "    self.b=20\n",
        "  def m1(self):\n",
        "    self.c=30 #instance method by using self\n",
        "t=Test()  #a,b will added to the object\n",
        "t.m1()  #c will added to the object\n",
        "t.d=40  #d will added to the object(instance variable outside of the class)\n",
        "print(t.__dict__)  #to see the values of instance variables\n"
      ],
      "metadata": {
        "colab": {
          "base_uri": "https://localhost:8080/"
        },
        "id": "Og_uhej7kXbP",
        "outputId": "f5ac4101-2ecc-45c7-9a6a-06c79c9b2197"
      },
      "execution_count": 5,
      "outputs": [
        {
          "output_type": "stream",
          "name": "stdout",
          "text": [
            "{'a': 10, 'b': 20, 'c': 30, 'd': 40}\n"
          ]
        }
      ]
    },
    {
      "cell_type": "code",
      "source": [
        "class Test:\n",
        "  def __init__(self):\n",
        "    self.a=10\n",
        "    self.b=20\n",
        "  def m1(self):\n",
        "    self.c=30 #instance method by using self\n",
        "t=Test()  #a,b will added to the object\n",
        "t.m1()  #c will added to the object\n",
        "t.d=40  #d will added to the object\n",
        "t1=Test() #Only a,b will added to the the object\n",
        "print(t.__dict__) #to see the values of instance variables in t object\n",
        "print(t1.__dict__)  #to see the values of instance variables in t1 object"
      ],
      "metadata": {
        "colab": {
          "base_uri": "https://localhost:8080/"
        },
        "id": "Ph9YBvabmGth",
        "outputId": "54b18804-65f9-4a27-be28-bb2a59320776"
      },
      "execution_count": 9,
      "outputs": [
        {
          "output_type": "stream",
          "name": "stdout",
          "text": [
            "{'a': 10, 'b': 20, 'c': 30, 'd': 40}\n",
            "{'a': 10, 'b': 20}\n"
          ]
        }
      ]
    },
    {
      "cell_type": "code",
      "source": [
        ""
      ],
      "metadata": {
        "id": "_nZFHqG2pq3u"
      },
      "execution_count": null,
      "outputs": []
    }
  ]
}