{
  "nbformat": 4,
  "nbformat_minor": 0,
  "metadata": {
    "colab": {
      "name": "Instance variables.ipynb",
      "provenance": [],
      "collapsed_sections": [],
      "authorship_tag": "ABX9TyO8kIhKtOeJ1eWTYr6Il3GW",
      "include_colab_link": true
    },
    "kernelspec": {
      "name": "python3",
      "display_name": "Python 3"
    },
    "language_info": {
      "name": "python"
    }
  },
  "cells": [
    {
      "cell_type": "markdown",
      "metadata": {
        "id": "view-in-github",
        "colab_type": "text"
      },
      "source": [
        "<a href=\"https://colab.research.google.com/github/sandeeppatra49/My-codes/blob/main/Practice/Instance_variables.ipynb\" target=\"_parent\"><img src=\"https://colab.research.google.com/assets/colab-badge.svg\" alt=\"Open In Colab\"/></a>"
      ]
    },
    {
      "cell_type": "code",
      "execution_count": null,
      "metadata": {
        "colab": {
          "base_uri": "https://localhost:8080/"
        },
        "id": "XOvMS1nziiXF",
        "outputId": "b64c124e-12e0-43d1-d84e-0d8ba84c0cc1"
      },
      "outputs": [
        {
          "output_type": "stream",
          "name": "stdout",
          "text": [
            "{'a': 10, 'b': 20}\n"
          ]
        }
      ],
      "source": [
        "class Test:\n",
        "  def __init__(self):\n",
        "    self.a=10\n",
        "    self.b=20\n",
        "t=Test()\n",
        "print(t.__dict__)  #to see the values of instance variables"
      ]
    },
    {
      "cell_type": "code",
      "source": [
        "class Test:\n",
        "  def __init__(self):\n",
        "    self.a=10\n",
        "    self.b=20\n",
        "  def m1(self):\n",
        "    self.c=30 #instance method by using self\n",
        "t=Test()  #a,b will added to the object\n",
        "t.m1()  #c will added to the object\n",
        "print(t.__dict__)  #to see the values of instance variables"
      ],
      "metadata": {
        "colab": {
          "base_uri": "https://localhost:8080/"
        },
        "id": "iPMbXaugjCqy",
        "outputId": "37d35ac8-63f0-4aab-e0a2-a9d1a3bd3587"
      },
      "execution_count": null,
      "outputs": [
        {
          "output_type": "stream",
          "name": "stdout",
          "text": [
            "{'a': 10, 'b': 20, 'c': 30}\n"
          ]
        }
      ]
    },
    {
      "cell_type": "code",
      "source": [
        "class Test:\n",
        "  def __init__(self):\n",
        "    self.a=10\n",
        "    self.b=20\n",
        "  def m1(self):\n",
        "    self.c=30 #instance method by using self\n",
        "t=Test()  #a,b will added to the object\n",
        "t.m1()  #c will added to the object\n",
        "t.d=40  #d will added to the object(instance variable outside of the class)\n",
        "print(t.__dict__)  #to see the values of instance variables\n"
      ],
      "metadata": {
        "colab": {
          "base_uri": "https://localhost:8080/"
        },
        "id": "Og_uhej7kXbP",
        "outputId": "f5ac4101-2ecc-45c7-9a6a-06c79c9b2197"
      },
      "execution_count": null,
      "outputs": [
        {
          "output_type": "stream",
          "name": "stdout",
          "text": [
            "{'a': 10, 'b': 20, 'c': 30, 'd': 40}\n"
          ]
        }
      ]
    },
    {
      "cell_type": "code",
      "source": [
        "class Test:\n",
        "  def __init__(self):\n",
        "    self.a=10\n",
        "    self.b=20\n",
        "  def m1(self):\n",
        "    self.c=30 #instance method by using self\n",
        "t=Test()  #a,b will added to the object\n",
        "t.m1()  #c will added to the object\n",
        "t.d=40  #d will added to the object\n",
        "t1=Test() #Only a,b will added to the the object\n",
        "print(t.__dict__) #to see the values of instance variables in t object\n",
        "print(t1.__dict__)  #to see the values of instance variables in t1 object"
      ],
      "metadata": {
        "colab": {
          "base_uri": "https://localhost:8080/"
        },
        "id": "Ph9YBvabmGth",
        "outputId": "54b18804-65f9-4a27-be28-bb2a59320776"
      },
      "execution_count": null,
      "outputs": [
        {
          "output_type": "stream",
          "name": "stdout",
          "text": [
            "{'a': 10, 'b': 20, 'c': 30, 'd': 40}\n",
            "{'a': 10, 'b': 20}\n"
          ]
        }
      ]
    },
    {
      "cell_type": "code",
      "source": [
        "class Test:\n",
        "  def __init__(self):\n",
        "    self.a=80\n",
        "    self.b=20\n",
        "  def display(self):\n",
        "    print(self.a) #80\n",
        "    print(self.b) #20\n",
        "k=Test()\n",
        "k.display() #80,20 (instance variable access With in the class)\n",
        "#instance variable access outside of the class\n",
        "print(k.a)  #80\n",
        "print(k.b)  #20"
      ],
      "metadata": {
        "colab": {
          "base_uri": "https://localhost:8080/"
        },
        "id": "_nZFHqG2pq3u",
        "outputId": "641860e0-56e1-4a1a-e3dc-4676ae2ae1d8"
      },
      "execution_count": null,
      "outputs": [
        {
          "output_type": "stream",
          "name": "stdout",
          "text": [
            "80\n",
            "20\n",
            "80\n",
            "20\n"
          ]
        }
      ]
    },
    {
      "cell_type": "code",
      "source": [
        "#delete instance variable\n",
        "class Demo:\n",
        "  def __init__(self):\n",
        "    self.a=10\n",
        "    self.b=20\n",
        "    self.c=30\n",
        "    self.d=40\n",
        "  def m1(self):\n",
        "    del self.c  #delete instance variable within the class\n",
        "x=Demo()\n",
        "x.m1()\n",
        "print(x.__dict__)"
      ],
      "metadata": {
        "colab": {
          "base_uri": "https://localhost:8080/"
        },
        "id": "bx2Vp95bF2wG",
        "outputId": "64049e13-ded6-4b32-e81d-e0b0c3c48703"
      },
      "execution_count": null,
      "outputs": [
        {
          "output_type": "stream",
          "name": "stdout",
          "text": [
            "{'a': 10, 'b': 20, 'd': 40}\n"
          ]
        }
      ]
    },
    {
      "cell_type": "code",
      "source": [
        ""
      ],
      "metadata": {
        "id": "6uY2dn5LLJfc"
      },
      "execution_count": null,
      "outputs": []
    },
    {
      "cell_type": "code",
      "source": [
        "#delete instance variable\n",
        "class Demo:\n",
        "  def __init__(self):\n",
        "    self.a=10\n",
        "    self.b=20\n",
        "    self.c=30\n",
        "    self.d=40\n",
        "  def m1(self):\n",
        "    del self.c\n",
        "x=Demo()\n",
        "x.m1()\n",
        "print('x:',x.__dict__)\n",
        "x1=Demo()\n",
        "x1.m1()\n",
        "del x1.b,x1.d #delete instance variable outside of the class\n",
        "print('x1:',x1.__dict__)"
      ],
      "metadata": {
        "colab": {
          "base_uri": "https://localhost:8080/"
        },
        "outputId": "a3c7b602-a83d-4f28-a21d-e1bd3018b10c",
        "id": "3-K6TYc_MT3b"
      },
      "execution_count": null,
      "outputs": [
        {
          "output_type": "stream",
          "name": "stdout",
          "text": [
            "x: {'a': 10, 'b': 20, 'd': 40}\n",
            "x1: {'a': 10}\n"
          ]
        }
      ]
    },
    {
      "cell_type": "code",
      "source": [
        "#instance variable update\n",
        "class Demo:\n",
        "  def __init__(self):\n",
        "    self.a=10\n",
        "    self.b=20\n",
        "v=Test()\n",
        "v.a=999 #update a\n",
        "v.b=690 #update b\n",
        "vv=Test()\n",
        "print('v:',v.__dict__)\n",
        "print('vv:',vv.__dict__)\n"
      ],
      "metadata": {
        "colab": {
          "base_uri": "https://localhost:8080/"
        },
        "id": "u3130PjBMvkE",
        "outputId": "c2f3e495-2e5f-412b-af7a-a78155bdf6c2"
      },
      "execution_count": null,
      "outputs": [
        {
          "output_type": "stream",
          "name": "stdout",
          "text": [
            "v: {'a': 999, 'b': 690}\n",
            "vv: {'a': 80, 'b': 20}\n"
          ]
        }
      ]
    },
    {
      "cell_type": "code",
      "source": [
        ""
      ],
      "metadata": {
        "id": "eGCPZ4FlRN1w"
      },
      "execution_count": null,
      "outputs": []
    }
  ]
}