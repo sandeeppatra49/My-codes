{
  "nbformat": 4,
  "nbformat_minor": 0,
  "metadata": {
    "colab": {
      "name": "Polymorphism.ipynb",
      "provenance": [],
      "authorship_tag": "ABX9TyNPDJbUk1xIVk8JWr3Qprjz",
      "include_colab_link": true
    },
    "kernelspec": {
      "name": "python3",
      "display_name": "Python 3"
    },
    "language_info": {
      "name": "python"
    }
  },
  "cells": [
    {
      "cell_type": "markdown",
      "metadata": {
        "id": "view-in-github",
        "colab_type": "text"
      },
      "source": [
        "<a href=\"https://colab.research.google.com/github/sandeeppatra49/My-codes/blob/main/Practice/Polymorphism.ipynb\" target=\"_parent\"><img src=\"https://colab.research.google.com/assets/colab-badge.svg\" alt=\"Open In Colab\"/></a>"
      ]
    },
    {
      "cell_type": "markdown",
      "source": [
        "Operator Overloading"
      ],
      "metadata": {
        "id": "VkxQByb6A0F5"
      }
    },
    {
      "cell_type": "code",
      "execution_count": 4,
      "metadata": {
        "colab": {
          "base_uri": "https://localhost:8080/"
        },
        "id": "5zYZQDxe_u2x",
        "outputId": "f646d9a1-4f6c-407f-d8a6-07984940f2d8"
      },
      "outputs": [
        {
          "output_type": "stream",
          "name": "stdout",
          "text": [
            "30\n"
          ]
        }
      ],
      "source": [
        "# Plus symbol for Arithmatic purpose \n",
        "a=10\n",
        "b=20\n",
        "c=a+b\n",
        "print(c)"
      ]
    },
    {
      "cell_type": "code",
      "source": [
        "# Plus Symbol also used for Concatenation\n",
        "First_Name='Sandeep'\n",
        "Last_Name='Patra'\n",
        "Name=First_Name+' '+Last_Name\n",
        "print(Name)"
      ],
      "metadata": {
        "colab": {
          "base_uri": "https://localhost:8080/"
        },
        "id": "X4viI6MA_54Z",
        "outputId": "6bc38f11-c666-4023-e984-0e368a875c29"
      },
      "execution_count": 7,
      "outputs": [
        {
          "output_type": "stream",
          "name": "stdout",
          "text": [
            "Sandeep Patra\n"
          ]
        }
      ]
    },
    {
      "cell_type": "markdown",
      "source": [
        "Method Overriding"
      ],
      "metadata": {
        "id": "rpti3gN2BMN1"
      }
    },
    {
      "cell_type": "code",
      "source": [
        "#method Overriding (Same method different function)\n",
        "class Sports:\n",
        "  def champion(self):   #champion method definiing\n",
        "    print('1st position Gold medal')\n",
        "class Winner(Sports): \n",
        "  def champion(self): #redefiing champion method \n",
        "    print('2nd position Silver medal')\n",
        "x=Winner()  #creatiing object\n",
        "x.champion()  #call champion method"
      ],
      "metadata": {
        "colab": {
          "base_uri": "https://localhost:8080/"
        },
        "id": "wHyg3jNKAsWG",
        "outputId": "99217486-290f-477f-e979-cc1b0362e6bb"
      },
      "execution_count": 5,
      "outputs": [
        {
          "output_type": "stream",
          "name": "stdout",
          "text": [
            "2nd position Silver medal\n"
          ]
        }
      ]
    },
    {
      "cell_type": "code",
      "source": [
        "class Love:\n",
        "   def marry(self):\n",
        "     print('Arranged Marriage With sneha')\n",
        "\n",
        "class Marriage(Love):\n",
        "  def marry(self):\n",
        "    print('Love marriage with Siri')\n",
        "\n",
        "final=Marriage()\n",
        "final.marry()"
      ],
      "metadata": {
        "colab": {
          "base_uri": "https://localhost:8080/"
        },
        "id": "un2vjsIefTzY",
        "outputId": "d1e52ec7-5b1a-49ad-ba7a-152d31912778"
      },
      "execution_count": 6,
      "outputs": [
        {
          "output_type": "stream",
          "name": "stdout",
          "text": [
            "Love marriage with Siri\n"
          ]
        }
      ]
    },
    {
      "cell_type": "markdown",
      "source": [
        "Constructor Overriding"
      ],
      "metadata": {
        "id": "CFDbEYr7nMPN"
      }
    },
    {
      "cell_type": "code",
      "source": [
        " #parent class constuctor is availabel to child class through inheritance\n",
        "class Student:\n",
        "  def __init__(self):\n",
        "    print('30 members')\n",
        "\n",
        "class Strength(Student):\n",
        "  pass\n",
        "\n",
        "total=Strength()"
      ],
      "metadata": {
        "colab": {
          "base_uri": "https://localhost:8080/"
        },
        "id": "bkRH-pcVisPk",
        "outputId": "e15e0afa-3147-4b13-ddff-2b833ed9fa26"
      },
      "execution_count": 7,
      "outputs": [
        {
          "output_type": "stream",
          "name": "stdout",
          "text": [
            "30 members\n"
          ]
        }
      ]
    },
    {
      "cell_type": "code",
      "source": [
        "#parent class constuctor is by default availabel to child class constructor \n",
        "#if child class is not satisfy with the parent class then child class redefine the constructor\n",
        "class Parents:\n",
        "  def __init__(self):   #defining constructor\n",
        "    print('Parent class constructor')\n",
        "\n",
        "class Child(Parents):\n",
        "  def __init__(self):   #redefining constructor\n",
        "    print('Child class constructor')\n",
        "\n",
        "final=Child()\n"
      ],
      "metadata": {
        "colab": {
          "base_uri": "https://localhost:8080/"
        },
        "id": "k5tHuhLLj3Ys",
        "outputId": "31d4586a-2899-4c7f-deba-586849c2b83c"
      },
      "execution_count": 9,
      "outputs": [
        {
          "output_type": "stream",
          "name": "stdout",
          "text": [
            "Child class constructor\n"
          ]
        }
      ]
    },
    {
      "cell_type": "markdown",
      "source": [
        "Inheritance:"
      ],
      "metadata": {
        "id": "68cuOa47nWdq"
      }
    },
    {
      "cell_type": "code",
      "source": [
        "class Name:\n",
        "  def starts_with(self):\n",
        "    print('Maximum name starts with \"S\"')\n",
        "\n",
        "class First_name(Name):\n",
        "  pass\n",
        "max=First_name()\n",
        "max.starts_with()"
      ],
      "metadata": {
        "colab": {
          "base_uri": "https://localhost:8080/"
        },
        "id": "lQhCgstnlKff",
        "outputId": "894c435b-c031-42a0-a49c-8464945bbb0e"
      },
      "execution_count": 11,
      "outputs": [
        {
          "output_type": "stream",
          "name": "stdout",
          "text": [
            "Maximum name starts with \"S\"\n"
          ]
        }
      ]
    },
    {
      "cell_type": "code",
      "source": [
        ""
      ],
      "metadata": {
        "id": "QKMJGBKAoEXC"
      },
      "execution_count": null,
      "outputs": []
    }
  ]
}