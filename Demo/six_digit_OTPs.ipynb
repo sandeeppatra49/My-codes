{
  "cells": [
    {
      "cell_type": "markdown",
      "metadata": {
        "id": "view-in-github",
        "colab_type": "text"
      },
      "source": [
        "<a href=\"https://colab.research.google.com/github/sandeeppatra49/My-codes/blob/main/Demo/six_digit_OTPs.ipynb\" target=\"_parent\"><img src=\"https://colab.research.google.com/assets/colab-badge.svg\" alt=\"Open In Colab\"/></a>"
      ]
    },
    {
      "cell_type": "code",
      "execution_count": null,
      "id": "0bc37232",
      "metadata": {
        "id": "0bc37232"
      },
      "outputs": [],
      "source": [
        "from random import randint"
      ]
    },
    {
      "cell_type": "code",
      "execution_count": null,
      "id": "3a8f69e5",
      "metadata": {
        "id": "3a8f69e5",
        "outputId": "3febe297-d4e0-43c4-da95-7e825b8e8245"
      },
      "outputs": [
        {
          "name": "stdout",
          "output_type": "stream",
          "text": [
            "025964\n",
            "351607\n",
            "868294\n",
            "648013\n",
            "921871\n",
            "107488\n",
            "779996\n",
            "354833\n",
            "890384\n",
            "209187\n"
          ]
        }
      ],
      "source": [
        "for i in range (10):\n",
        "        print(randint(0,9),randint(0,9),randint(0,9),randint(0,9),randint(0,9),randint(0,9),sep='')"
      ]
    },
    {
      "cell_type": "code",
      "execution_count": null,
      "id": "001d8dac",
      "metadata": {
        "id": "001d8dac"
      },
      "outputs": [],
      "source": [
        ""
      ]
    }
  ],
  "metadata": {
    "kernelspec": {
      "display_name": "Python 3 (ipykernel)",
      "language": "python",
      "name": "python3"
    },
    "language_info": {
      "codemirror_mode": {
        "name": "ipython",
        "version": 3
      },
      "file_extension": ".py",
      "mimetype": "text/x-python",
      "name": "python",
      "nbconvert_exporter": "python",
      "pygments_lexer": "ipython3",
      "version": "3.9.7"
    },
    "colab": {
      "name": "six digit OTPs.ipynb",
      "provenance": [],
      "include_colab_link": true
    }
  },
  "nbformat": 4,
  "nbformat_minor": 5
}